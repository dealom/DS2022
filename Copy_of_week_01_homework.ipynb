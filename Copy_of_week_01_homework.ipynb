{
  "nbformat": 4,
  "nbformat_minor": 0,
  "metadata": {
    "kernelspec": {
      "display_name": "Python 3",
      "language": "python",
      "name": "python3"
    },
    "language_info": {
      "codemirror_mode": {
        "name": "ipython",
        "version": 3
      },
      "file_extension": ".py",
      "mimetype": "text/x-python",
      "name": "python",
      "nbconvert_exporter": "python",
      "pygments_lexer": "ipython3",
      "version": "3.8.5"
    },
    "colab": {
      "name": "Copy of week-01-homework.ipynb",
      "provenance": [],
      "include_colab_link": true
    }
  },
  "cells": [
    {
      "cell_type": "markdown",
      "metadata": {
        "id": "view-in-github",
        "colab_type": "text"
      },
      "source": [
        "<a href=\"https://colab.research.google.com/github/dealom/DS2022/blob/main/Copy_of_week_01_homework.ipynb\" target=\"_parent\"><img src=\"https://colab.research.google.com/assets/colab-badge.svg\" alt=\"Open In Colab\"/></a>"
      ]
    },
    {
      "cell_type": "markdown",
      "metadata": {
        "id": "NQuGW6raMClO"
      },
      "source": [
        "# Week 1 HW\n",
        "\n",
        "**Exercise 1 and 3 are due Monday 9/20**  \n",
        "**Exercise 2 and 4 are due Tuesday 9/21**  \n",
        "**Exercise 5 and 6 are due Wednesday 9/22**  "
      ]
    },
    {
      "cell_type": "markdown",
      "metadata": {
        "id": "ou5kC6H6MClS"
      },
      "source": [
        "# Exercise 1"
      ]
    },
    {
      "cell_type": "markdown",
      "metadata": {
        "id": "l7JOXEcvMClS"
      },
      "source": [
        "a. Set a variable to a user input. "
      ]
    },
    {
      "cell_type": "code",
      "metadata": {
        "id": "Gs1M0NeWMClT",
        "colab": {
          "base_uri": "https://localhost:8080/"
        },
        "outputId": "3154776b-1860-4af4-ad02-4463f23c4d25"
      },
      "source": [
        "vary = input(\"Enter a variable: \")\n",
        "# print(vary)"
      ],
      "execution_count": 1,
      "outputs": [
        {
          "name": "stdout",
          "output_type": "stream",
          "text": [
            "Enter a variable: joe\n"
          ]
        }
      ]
    },
    {
      "cell_type": "markdown",
      "metadata": {
        "id": "WrfBZZGlMClU"
      },
      "source": [
        "b. Set two variables in the same statement."
      ]
    },
    {
      "cell_type": "code",
      "metadata": {
        "id": "Ite4fM_cMClU",
        "colab": {
          "base_uri": "https://localhost:8080/"
        },
        "outputId": "acf79984-c431-4203-e984-4aae0f93dcf8"
      },
      "source": [
        "a,b = 1,2\n",
        "# print(a+b)\n"
      ],
      "execution_count": null,
      "outputs": [
        {
          "output_type": "stream",
          "name": "stdout",
          "text": [
            "3\n"
          ]
        }
      ]
    },
    {
      "cell_type": "markdown",
      "metadata": {
        "id": "VX7AatI_MClU"
      },
      "source": [
        "c. Create a variable with a value that when cast as a bool returns True."
      ]
    },
    {
      "cell_type": "code",
      "metadata": {
        "id": "0kcsbgh4MClV",
        "colab": {
          "base_uri": "https://localhost:8080/"
        },
        "outputId": "61f288e3-7097-40e3-ac0f-663711ad9ea3"
      },
      "source": [
        "x = \"joe\"\n",
        "# print(bool(x))"
      ],
      "execution_count": null,
      "outputs": [
        {
          "output_type": "stream",
          "name": "stdout",
          "text": [
            "True\n"
          ]
        }
      ]
    },
    {
      "cell_type": "markdown",
      "metadata": {
        "id": "AOHGmummMClV"
      },
      "source": [
        "d. If we add up all the numbers from 0 to 100, we get 5050. \n",
        "\n",
        "What sum do we get if we add up all the numbers from 0 to 1000?\n",
        "\n",
        "(Show your work)"
      ]
    },
    {
      "cell_type": "code",
      "metadata": {
        "id": "JndQ2aMcMClW",
        "colab": {
          "base_uri": "https://localhost:8080/"
        },
        "outputId": "bb656d83-5eda-44fa-962b-8e8984c49056"
      },
      "source": [
        "sum = 0\n",
        "for n in range(1001):\n",
        "  sum += n\n",
        "print(sum)"
      ],
      "execution_count": null,
      "outputs": [
        {
          "output_type": "stream",
          "name": "stdout",
          "text": [
            "500500\n"
          ]
        }
      ]
    },
    {
      "cell_type": "markdown",
      "metadata": {
        "id": "ZZd81d0mMClW"
      },
      "source": [
        "# Exercise 2 \n",
        "\n",
        "Convert the following logical statements into python. Print the result for each possible combination (TT, TF, FT, FF)"
      ]
    },
    {
      "cell_type": "markdown",
      "metadata": {
        "id": "OdzdbRdLMClX"
      },
      "source": [
        "¬(p || q )  "
      ]
    },
    {
      "cell_type": "code",
      "metadata": {
        "id": "A0nFROcNMClX"
      },
      "source": [
        ""
      ],
      "execution_count": null,
      "outputs": []
    },
    {
      "cell_type": "markdown",
      "metadata": {
        "id": "iWdhojHkMClX"
      },
      "source": [
        "( p || q ) ⊕ ( p & q)"
      ]
    },
    {
      "cell_type": "code",
      "metadata": {
        "id": "QZnOn98kMClY"
      },
      "source": [
        ""
      ],
      "execution_count": null,
      "outputs": []
    },
    {
      "cell_type": "markdown",
      "metadata": {
        "id": "3bRa55RyMClY"
      },
      "source": [
        "(p & ¬q ) || (¬p & q)"
      ]
    },
    {
      "cell_type": "code",
      "metadata": {
        "id": "tJZiUGA1MClY"
      },
      "source": [
        ""
      ],
      "execution_count": null,
      "outputs": []
    },
    {
      "cell_type": "markdown",
      "metadata": {
        "id": "6CSHNcJrMClZ"
      },
      "source": [
        "# Exercise 3"
      ]
    },
    {
      "cell_type": "markdown",
      "metadata": {
        "id": "h_1eCe1QMClZ"
      },
      "source": [
        " a. Create an array of strings that consist of five individual zeros followed by five individual ones. Demonstrate that it's an array, and that this is an array of strings using a built-in python function."
      ]
    },
    {
      "cell_type": "code",
      "metadata": {
        "id": "jpCJ1ev-MClZ",
        "colab": {
          "base_uri": "https://localhost:8080/"
        },
        "outputId": "25106f3c-05ff-4c0e-859b-ca162b3fed64"
      },
      "source": [
        "array = [\"0\",\"0\",\"0\",\"0\",\"0\",\"1\",\"1\",\"1\",\"1\",\"1\"]\n",
        "\n",
        "print(isinstance(array,list)) # Should be True\n",
        "\n",
        "rayofstrings = True\n",
        "for a in array: # if any element is not a string, the boolean becomes False\n",
        "  if (isinstance(a,str)==False): \n",
        "    rayofstrings = False \n",
        "print(rayofstrings) # if array is full of strings, this should be True"
      ],
      "execution_count": null,
      "outputs": [
        {
          "output_type": "stream",
          "name": "stdout",
          "text": [
            "True\n",
            "False\n"
          ]
        }
      ]
    },
    {
      "cell_type": "markdown",
      "metadata": {
        "id": "LRDZFQJ_MCla"
      },
      "source": [
        "b. Create an array of integers that consists of the same. Output the number of elements in the array using a built-in python function"
      ]
    },
    {
      "cell_type": "code",
      "metadata": {
        "id": "wIvR59rmMCla",
        "colab": {
          "base_uri": "https://localhost:8080/"
        },
        "outputId": "58038f29-55bf-4472-9c41-fb4f4a33a9e5"
      },
      "source": [
        "array = [0,0,0,0,0,1,1,1,1,1]\n",
        "print(len(array)) # 10"
      ],
      "execution_count": null,
      "outputs": [
        {
          "output_type": "stream",
          "name": "stdout",
          "text": [
            "10\n"
          ]
        }
      ]
    },
    {
      "cell_type": "markdown",
      "metadata": {
        "id": "KuXuXVQ4MCla"
      },
      "source": [
        "c. Create an array of floats that consists of the same. Demonstrate that this array is one of floats using a built-in python function."
      ]
    },
    {
      "cell_type": "code",
      "metadata": {
        "id": "I8BnCx8FMCla",
        "colab": {
          "base_uri": "https://localhost:8080/"
        },
        "outputId": "feeb056f-e684-45cc-c729-dd4455fb2ab3"
      },
      "source": [
        "array = [0.0,0.0,0.0,0.0,0.0,1.0,1.0,1.0,1.0,1.0]\n",
        "\n",
        "oneoffloats = True\n",
        "for a in array:\n",
        "  if (isinstance(a,float)==False):\n",
        "      oneoffloats = False\n",
        "print(oneoffloats) # True if array only has floats"
      ],
      "execution_count": null,
      "outputs": [
        {
          "output_type": "stream",
          "name": "stdout",
          "text": [
            "True\n"
          ]
        }
      ]
    },
    {
      "cell_type": "markdown",
      "metadata": {
        "id": "9DgUYrPCMClb"
      },
      "source": [
        "d. Create an array of bools that consists of the same. Demonstrate that this array is one of bools using a built-in python function."
      ]
    },
    {
      "cell_type": "code",
      "metadata": {
        "id": "eirlMs51MClb",
        "colab": {
          "base_uri": "https://localhost:8080/"
        },
        "outputId": "76846563-381e-4352-8c0a-534870d431ef"
      },
      "source": [
        "array = [False,False,False,False,False,True,True,True,True,True]\n",
        "\n",
        "oneofbools = True\n",
        "for a in array:\n",
        "  if (isinstance(a,bool)==False):\n",
        "      oneofbools = False\n",
        "print(oneofbools) # True if array only has bools"
      ],
      "execution_count": null,
      "outputs": [
        {
          "output_type": "stream",
          "name": "stdout",
          "text": [
            "True\n"
          ]
        }
      ]
    },
    {
      "cell_type": "markdown",
      "metadata": {
        "id": "aWsKFlrVMClb"
      },
      "source": [
        "# Exercise 4\n",
        "\n",
        "Without actually using Python, determine what the following would evaluate\n",
        "to in Python and explain step-by-step how you arrived at this answer:\n",
        "\n",
        "    a. (1 or ((0 or 0) or 1)) or 1\n",
        "    b. ((1 or 0) or 0 or 1) or 1\n",
        "    c. 1 or 0 or 0 or 1 or 1\n",
        "    \n",
        "Change the following cells to markdown and fill your answer in them."
      ]
    },
    {
      "cell_type": "markdown",
      "metadata": {
        "id": "yHL0AY5OMClb"
      },
      "source": [
        ""
      ]
    },
    {
      "cell_type": "markdown",
      "metadata": {
        "id": "9Ud2pKzfMClb"
      },
      "source": [
        "# Exercise 5\n",
        "\n",
        "To convert Fahrenheit to Celsius, you use the following formula:\n",
        "\n",
        "$$\n",
        "    C^{\\circ} = \\frac{ (F^{\\circ} - 32)}{1.8}\n",
        "$$\n",
        "\n",
        "Given a Fahrenheit input `temperature`, write some python statements to print the temperature in Celsius.\n"
      ]
    },
    {
      "cell_type": "code",
      "metadata": {
        "id": "Xf6c7BUjMClc"
      },
      "source": [
        "temperature = input(\"Enter temperature in Fahrenheit: \")"
      ],
      "execution_count": null,
      "outputs": []
    },
    {
      "cell_type": "markdown",
      "metadata": {
        "id": "_w06hATnMClc"
      },
      "source": [
        "# Exercise 6\n",
        "\n",
        "If given a height and a radius, print the volume of a cylinder.\n",
        "\n",
        "$$ \n",
        "    V = \\pi r^2h\n",
        "$$"
      ]
    },
    {
      "cell_type": "code",
      "metadata": {
        "id": "2HsVw9DkMClc"
      },
      "source": [
        "height = input(\"Enter a height: \")\n",
        "radius = input(\"Enter a radius: \")"
      ],
      "execution_count": null,
      "outputs": []
    },
    {
      "cell_type": "code",
      "metadata": {
        "id": "MWM23G2QMClc"
      },
      "source": [
        ""
      ],
      "execution_count": null,
      "outputs": []
    }
  ]
}