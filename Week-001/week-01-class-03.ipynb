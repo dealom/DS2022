{
  "nbformat": 4,
  "nbformat_minor": 0,
  "metadata": {
    "kernelspec": {
      "display_name": "Python 3",
      "language": "python",
      "name": "python3"
    },
    "language_info": {
      "codemirror_mode": {
        "name": "ipython",
        "version": 3
      },
      "file_extension": ".py",
      "mimetype": "text/x-python",
      "name": "python",
      "nbconvert_exporter": "python",
      "pygments_lexer": "ipython3",
      "version": "3.9.0"
    },
    "colab": {
      "name": "week-01-class-03.ipynb",
      "provenance": []
    }
  },
  "cells": [
    {
      "cell_type": "markdown",
      "metadata": {
        "id": "FfhiWfH6eDrm"
      },
      "source": [
        "<div style=\"background: #000;\n",
        "            color: #FFF;\n",
        "            margin: 0px;\n",
        "                padding: 10px 0px 20px 0px;\n",
        "            text-align: center; \n",
        "                \">\n",
        "    <h1>Python Data Science Course - Week 1 - Day 3</h1>\n",
        "</div>\n",
        "\n",
        "## Todays Agenda\n",
        "\n",
        "* Ints vs. Floats\n",
        "* Math in Python\n",
        "* Discuss homework assignments\n"
      ]
    },
    {
      "cell_type": "code",
      "metadata": {
        "id": "1SWdI_kHeDrq"
      },
      "source": [
        ""
      ],
      "execution_count": null,
      "outputs": []
    },
    {
      "cell_type": "code",
      "metadata": {
        "id": "FHlffsR_eDrq"
      },
      "source": [
        ""
      ],
      "execution_count": null,
      "outputs": []
    },
    {
      "cell_type": "markdown",
      "metadata": {
        "id": "rGFMbinAeDrr"
      },
      "source": [
        "### bools"
      ]
    },
    {
      "cell_type": "code",
      "metadata": {
        "id": "fwFdZFoteDrr"
      },
      "source": [
        "print(\"hello\") and print(\"hello\")"
      ],
      "execution_count": null,
      "outputs": []
    },
    {
      "cell_type": "code",
      "metadata": {
        "id": "pexcStNceDrs"
      },
      "source": [
        "print(\"hello\") and True"
      ],
      "execution_count": null,
      "outputs": []
    },
    {
      "cell_type": "code",
      "metadata": {
        "id": "jQNjTbTFeDrs"
      },
      "source": [
        "print(\"hello\") and False"
      ],
      "execution_count": null,
      "outputs": []
    },
    {
      "cell_type": "code",
      "metadata": {
        "id": "U1GpW13HeDrs"
      },
      "source": [
        "True and print(\"hello\")"
      ],
      "execution_count": null,
      "outputs": []
    },
    {
      "cell_type": "code",
      "metadata": {
        "id": "fJcdQdUZeDrt"
      },
      "source": [
        "False and print(\"hello\")"
      ],
      "execution_count": null,
      "outputs": []
    },
    {
      "cell_type": "code",
      "metadata": {
        "id": "BywYSk6heDrt"
      },
      "source": [
        "print(\"hello\") or print(\"goodbye\")"
      ],
      "execution_count": null,
      "outputs": []
    },
    {
      "cell_type": "code",
      "metadata": {
        "id": "cC555cnneDrt"
      },
      "source": [
        "print(\"hello\") or True"
      ],
      "execution_count": null,
      "outputs": []
    },
    {
      "cell_type": "code",
      "metadata": {
        "id": "q97PHlJbeDru"
      },
      "source": [
        "True == 1"
      ],
      "execution_count": null,
      "outputs": []
    },
    {
      "cell_type": "code",
      "metadata": {
        "id": "2Nq31TPFeDru"
      },
      "source": [
        "False == 0"
      ],
      "execution_count": null,
      "outputs": []
    },
    {
      "cell_type": "code",
      "metadata": {
        "id": "znEvdBKweDru"
      },
      "source": [
        "True == 939"
      ],
      "execution_count": null,
      "outputs": []
    },
    {
      "cell_type": "code",
      "metadata": {
        "id": "i4K1KMs_eDrv"
      },
      "source": [
        "False == -323"
      ],
      "execution_count": null,
      "outputs": []
    },
    {
      "cell_type": "code",
      "metadata": {
        "id": "oMra8ACAeDrv"
      },
      "source": [
        "bool(0), bool(0.00), bool(0j)"
      ],
      "execution_count": null,
      "outputs": []
    },
    {
      "cell_type": "code",
      "metadata": {
        "id": "0Y7vWnMHeDrv"
      },
      "source": [
        "bool(None)"
      ],
      "execution_count": null,
      "outputs": []
    },
    {
      "cell_type": "code",
      "metadata": {
        "id": "p5vcaopOeDrv"
      },
      "source": [
        "bool(()), bool([]), bool({})"
      ],
      "execution_count": null,
      "outputs": []
    },
    {
      "cell_type": "code",
      "metadata": {
        "id": "i2TzXDuzeDrv"
      },
      "source": [
        "class Example:\n",
        "    def __init__(self):\n",
        "        pass\n",
        "    def __bool__(self):\n",
        "        return False\n",
        "    def __len__(self):\n",
        "        return 0\n",
        "\n",
        "e = Example()\n",
        "    \n",
        "bool(e)"
      ],
      "execution_count": null,
      "outputs": []
    },
    {
      "cell_type": "markdown",
      "metadata": {
        "id": "_4Ff-TD-eDrv"
      },
      "source": [
        "# Ints"
      ]
    },
    {
      "cell_type": "code",
      "metadata": {
        "id": "1TkJZSWceDrw"
      },
      "source": [
        "variable = 45"
      ],
      "execution_count": null,
      "outputs": []
    },
    {
      "cell_type": "code",
      "metadata": {
        "id": "oQWuW7CAeDrw"
      },
      "source": [
        "type(variable)"
      ],
      "execution_count": null,
      "outputs": []
    },
    {
      "cell_type": "markdown",
      "metadata": {
        "id": "qeYctY1neDrw"
      },
      "source": [
        "# common math operations"
      ]
    },
    {
      "cell_type": "code",
      "metadata": {
        "id": "PBhTaJ9xeDrw"
      },
      "source": [
        "variable = 10 + 10\n",
        "\n",
        "print(variable)"
      ],
      "execution_count": null,
      "outputs": []
    },
    {
      "cell_type": "code",
      "metadata": {
        "id": "naK7LnaceDrw"
      },
      "source": [
        "variable = 10 - 10\n",
        "\n",
        "print(variable)"
      ],
      "execution_count": null,
      "outputs": []
    },
    {
      "cell_type": "code",
      "metadata": {
        "id": "sQTJd6bDeDrw"
      },
      "source": [
        "variable = -10 + 10\n",
        "print(variable)"
      ],
      "execution_count": null,
      "outputs": []
    },
    {
      "cell_type": "code",
      "metadata": {
        "id": "8plTYOgbeDrw"
      },
      "source": [
        "# some useful tricks\n",
        "\n",
        "# adding/subtracting an amount to a variable:\n",
        "variable += 5\n",
        "variable -= 5"
      ],
      "execution_count": null,
      "outputs": []
    },
    {
      "cell_type": "code",
      "metadata": {
        "id": "eaXDD0KxeDrx"
      },
      "source": [
        "# multiplication\n",
        "\n",
        "variable = 5 * 5\n",
        "\n",
        "# using exponents\n",
        "\n",
        "variable2 = 5 ** 5\n",
        "\n",
        "print(variable, variable2)"
      ],
      "execution_count": null,
      "outputs": []
    },
    {
      "cell_type": "markdown",
      "metadata": {
        "id": "rCM6WaqQeDrx"
      },
      "source": [
        "# Examples using python as a calculator"
      ]
    },
    {
      "cell_type": "markdown",
      "metadata": {
        "id": "P-tkB-8SeDrx"
      },
      "source": [
        "Say you had a company that ran projects with a budgeted amount of $1000 per project. Of that amount, you spend money for supplies and labor. Often, you don't use the full budget. Your boss asks you weekly to generate a list of the leftover funds. \n",
        "\n",
        "Let's use python to create a script that will allow us to enter the values and generate that list easily. "
      ]
    },
    {
      "cell_type": "code",
      "metadata": {
        "id": "vhhHkoU2eDrx"
      },
      "source": [
        "balance: int = 1000"
      ],
      "execution_count": null,
      "outputs": []
    },
    {
      "cell_type": "code",
      "metadata": {
        "id": "4B5qf_r_eDrx"
      },
      "source": [
        "sum(s)"
      ],
      "execution_count": null,
      "outputs": []
    },
    {
      "cell_type": "code",
      "metadata": {
        "id": "Qv5Nn1eneDrx"
      },
      "source": [
        ""
      ],
      "execution_count": null,
      "outputs": []
    },
    {
      "cell_type": "markdown",
      "metadata": {
        "id": "kYatbJQteDrx"
      },
      "source": [
        "# More complicated examples"
      ]
    },
    {
      "cell_type": "code",
      "metadata": {
        "id": "TZIh2u9ieDrx"
      },
      "source": [
        "# Floor division\n",
        "\n",
        "14 // 3 # discards fractional part"
      ],
      "execution_count": null,
      "outputs": []
    },
    {
      "cell_type": "code",
      "metadata": {
        "id": "7T6YrxXyeDry"
      },
      "source": [
        "# Remainder operation\n",
        "\n",
        "14 % 3 # returns remainder"
      ],
      "execution_count": null,
      "outputs": []
    },
    {
      "cell_type": "code",
      "metadata": {
        "id": "okIKZK4XeDry"
      },
      "source": [
        "# putting that together:\n",
        "\n",
        "w = 17 // 3\n",
        "w"
      ],
      "execution_count": null,
      "outputs": []
    },
    {
      "cell_type": "code",
      "metadata": {
        "id": "scna_OOpeDry"
      },
      "source": [
        "x = 17 % 3\n",
        "x"
      ],
      "execution_count": null,
      "outputs": []
    },
    {
      "cell_type": "code",
      "metadata": {
        "id": "Ni_T5mvMeDry"
      },
      "source": [
        "y = w, x\n",
        "y"
      ],
      "execution_count": null,
      "outputs": []
    },
    {
      "cell_type": "code",
      "metadata": {
        "id": "W_yriziMeDry"
      },
      "source": [
        "w * 3 + x"
      ],
      "execution_count": null,
      "outputs": []
    },
    {
      "cell_type": "code",
      "metadata": {
        "id": "Hd22-zx1eDry"
      },
      "source": [
        "# multiplication gets tricky"
      ],
      "execution_count": null,
      "outputs": []
    },
    {
      "cell_type": "code",
      "metadata": {
        "id": "O4746OZNeDry"
      },
      "source": [
        "print(type(5))\n",
        "print(type(3))\n",
        "print(type(5/3))"
      ],
      "execution_count": null,
      "outputs": []
    },
    {
      "cell_type": "code",
      "metadata": {
        "id": "zvWsnzBGeDrz"
      },
      "source": [
        "type(4.)"
      ],
      "execution_count": null,
      "outputs": []
    },
    {
      "cell_type": "code",
      "metadata": {
        "id": "fN56phoGeDrz"
      },
      "source": [
        "22/7."
      ],
      "execution_count": null,
      "outputs": []
    },
    {
      "cell_type": "code",
      "metadata": {
        "id": "v7ctB5L-eDrz"
      },
      "source": [
        "import math\n",
        "math.pi.as_integer_ratio()"
      ],
      "execution_count": null,
      "outputs": []
    },
    {
      "cell_type": "code",
      "metadata": {
        "id": "ll79HRF2eDrz"
      },
      "source": [
        "884279719003555/281474976710656"
      ],
      "execution_count": null,
      "outputs": []
    },
    {
      "cell_type": "markdown",
      "metadata": {
        "id": "Q0HEgXJ-eDrz"
      },
      "source": [
        "# Floats\n",
        "***\n",
        "\n",
        "The float type in CPython uses a C double for storage. A float object’s value is stored in binary floating-point with a fixed precision (typically 53 bits) and Python uses C operations, which in turn rely on the hardware implementation in the processor, to perform floating-point operations. This means that as far as floating-point operations are concerned, Python behaves like many popular languages including C and Java.\n",
        "\n",
        "Floats:\n",
        "1. Sign bit\n",
        "2. Fractional part digits\n",
        "3. Exponent part digits\n",
        "\n",
        "\n",
        "\n",
        "1. bit for negative/postive\n",
        "2. bits to expand as follows:  \n",
        "$\n",
        "01101101 - 0*2^{-1} + 1*2^{-2} + 1*2^{-3} + 0*2^{-4} + 1*2^{-5} + 1*2^{-6} + 0*2^{-7} + 1*2^{-8} = 0.42578125\n",
        "$\n",
        "3. bits for exponent:\n",
        "$\n",
        "11000011 - 1*2^7 + 1*2^6 + 0*2^5 + 0*2^4 + 0*2^3 + 0*2^2 + 1*2^1 + 1*2^0 = 195\n",
        "$\n",
        "\n",
        "\n",
        "sign * fractional part ** exponent"
      ]
    },
    {
      "cell_type": "code",
      "metadata": {
        "id": "v9esCMtZeDr0",
        "outputId": "b243434c-6038-4056-cac3-6da22acb6027",
        "colab": {
          "base_uri": "https://localhost:8080/"
        }
      },
      "source": [
        "0*2**-1 + 1*2**-2 + 1*2**-3 + 0*2**-4 + 1*2**-5 + 1*2**-6 + 0*2**-7 + 1*2**-8"
      ],
      "execution_count": 1,
      "outputs": [
        {
          "output_type": "execute_result",
          "data": {
            "text/plain": [
              "0.42578125"
            ]
          },
          "metadata": {},
          "execution_count": 1
        }
      ]
    },
    {
      "cell_type": "code",
      "metadata": {
        "id": "5UWX9drreDr0"
      },
      "source": [
        "sum([int(j) * 2 **-(i+1) for i, j in enumerate('01101101')])"
      ],
      "execution_count": null,
      "outputs": []
    },
    {
      "cell_type": "code",
      "metadata": {
        "id": "f5kbULCBeDr0",
        "outputId": "ae3ae16e-6065-4fa5-d29b-2e63294d2b43",
        "colab": {
          "base_uri": "https://localhost:8080/"
        }
      },
      "source": [
        "1*2**7 + 1*2**6 + 0*2**5 + 0*2**4 + 0*2**3 + 0*2**2 + 1*2**1 + 1*2**0"
      ],
      "execution_count": 3,
      "outputs": [
        {
          "output_type": "execute_result",
          "data": {
            "text/plain": [
              "195"
            ]
          },
          "metadata": {},
          "execution_count": 3
        }
      ]
    },
    {
      "cell_type": "code",
      "metadata": {
        "id": "FnV0ERToeDr0",
        "outputId": "73b6057b-e86b-4ffe-813d-185d25b13ffd",
        "colab": {
          "base_uri": "https://localhost:8080/"
        }
      },
      "source": [
        "sum([int(j) * 2 **(i) for i, j in enumerate('11000011')])"
      ],
      "execution_count": 2,
      "outputs": [
        {
          "output_type": "execute_result",
          "data": {
            "text/plain": [
              "195"
            ]
          },
          "metadata": {},
          "execution_count": 2
        }
      ]
    },
    {
      "cell_type": "markdown",
      "metadata": {
        "id": "ujPae8QzeDr0"
      },
      "source": [
        "1 2 3 4 5 6 7 8 9 10\n",
        "\n",
        "1.00 1.01 1.02 .. 1.99 2.00 99\n",
        "\n",
        "1.00000000000000000000000000000...\n",
        "2.000000000000000000000000000000000000000000000...\n",
        "1.0 ... 2.0"
      ]
    },
    {
      "cell_type": "code",
      "metadata": {
        "id": "QCPrh0JdeDr0",
        "outputId": "241d1b90-54a2-4116-c7c3-e9c41acfe8a7",
        "colab": {
          "base_uri": "https://localhost:8080/"
        }
      },
      "source": [
        "1/3."
      ],
      "execution_count": 5,
      "outputs": [
        {
          "output_type": "execute_result",
          "data": {
            "text/plain": [
              "0.3333333333333333"
            ]
          },
          "metadata": {},
          "execution_count": 5
        }
      ]
    },
    {
      "cell_type": "code",
      "metadata": {
        "id": "jv_3WgOdeDr0",
        "outputId": "df572aa8-0228-4d53-b489-1621e8fd5075",
        "colab": {
          "base_uri": "https://localhost:8080/"
        }
      },
      "source": [
        "import math\n",
        "\n",
        "type(math.pi)"
      ],
      "execution_count": 8,
      "outputs": [
        {
          "output_type": "execute_result",
          "data": {
            "text/plain": [
              "float"
            ]
          },
          "metadata": {},
          "execution_count": 8
        }
      ]
    },
    {
      "cell_type": "code",
      "metadata": {
        "id": "LJL7JIXKeDr1",
        "outputId": "53376843-00e4-419c-df3c-e52d9b4a57ae",
        "colab": {
          "base_uri": "https://localhost:8080/",
          "height": 35
        }
      },
      "source": [
        "format(math.pi, '.12g')"
      ],
      "execution_count": 9,
      "outputs": [
        {
          "output_type": "execute_result",
          "data": {
            "application/vnd.google.colaboratory.intrinsic+json": {
              "type": "string"
            },
            "text/plain": [
              "'3.14159265359'"
            ]
          },
          "metadata": {},
          "execution_count": 9
        }
      ]
    },
    {
      "cell_type": "code",
      "metadata": {
        "id": "kWyibNMheDr1",
        "outputId": "f5d35cdc-4cdf-4719-a4c9-3d0bfcd08c0c",
        "colab": {
          "base_uri": "https://localhost:8080/",
          "height": 35
        }
      },
      "source": [
        "format(math.pi, '.2f')"
      ],
      "execution_count": 10,
      "outputs": [
        {
          "output_type": "execute_result",
          "data": {
            "application/vnd.google.colaboratory.intrinsic+json": {
              "type": "string"
            },
            "text/plain": [
              "'3.14'"
            ]
          },
          "metadata": {},
          "execution_count": 10
        }
      ]
    },
    {
      "cell_type": "code",
      "metadata": {
        "id": "KYrOn7NDeDr1",
        "outputId": "fdb499aa-dac1-4fad-c1ce-f849668ef3a3",
        "colab": {
          "base_uri": "https://localhost:8080/",
          "height": 35
        }
      },
      "source": [
        "format(0.1, '.17f')"
      ],
      "execution_count": 6,
      "outputs": [
        {
          "output_type": "execute_result",
          "data": {
            "application/vnd.google.colaboratory.intrinsic+json": {
              "type": "string"
            },
            "text/plain": [
              "'0.10000000000000001'"
            ]
          },
          "metadata": {},
          "execution_count": 6
        }
      ]
    },
    {
      "cell_type": "code",
      "metadata": {
        "id": "YE5VmWQ6eDr1",
        "outputId": "70c1fb07-8aaf-48d1-84b1-e793c3ede6b5",
        "colab": {
          "base_uri": "https://localhost:8080/"
        }
      },
      "source": [
        "0.1 + 0.1 + 0.1 == 0.3"
      ],
      "execution_count": 4,
      "outputs": [
        {
          "output_type": "execute_result",
          "data": {
            "text/plain": [
              "False"
            ]
          },
          "metadata": {},
          "execution_count": 4
        }
      ]
    },
    {
      "cell_type": "code",
      "metadata": {
        "id": "HTGYguEoeDr1"
      },
      "source": [
        "round(0.1 + 0.1 + 0.1, 10) == round(0.3, 10)"
      ],
      "execution_count": null,
      "outputs": []
    },
    {
      "cell_type": "code",
      "metadata": {
        "id": "VUpmiXN2eDr1"
      },
      "source": [
        "(0.1).as_integer_ratio()"
      ],
      "execution_count": null,
      "outputs": []
    },
    {
      "cell_type": "code",
      "metadata": {
        "id": "KAV3C9KdeDr1"
      },
      "source": [
        "from decimal import getcontext, Decimal\n",
        "getcontext().prec = 6\n",
        "Decimal(1)/Decimal(7)"
      ],
      "execution_count": null,
      "outputs": []
    },
    {
      "cell_type": "code",
      "metadata": {
        "id": "cvzygEBMeDr1"
      },
      "source": [
        "getcontext().prec = 28\n",
        "Decimal(1)/Decimal(7)"
      ],
      "execution_count": null,
      "outputs": []
    },
    {
      "cell_type": "code",
      "metadata": {
        "id": "kuOEvCN1eDr1"
      },
      "source": [
        "getcontext().prec = 2\n",
        "Decimal(1)/Decimal(7)"
      ],
      "execution_count": null,
      "outputs": []
    },
    {
      "cell_type": "code",
      "metadata": {
        "id": "mf4N5T5leDr1"
      },
      "source": [
        "from fractions import Fraction\n",
        "Fraction.from_float(0.25)"
      ],
      "execution_count": null,
      "outputs": []
    },
    {
      "cell_type": "code",
      "metadata": {
        "id": "7yBOIfnyeDr2"
      },
      "source": [
        "Fraction.from_float(0.33333)"
      ],
      "execution_count": null,
      "outputs": []
    },
    {
      "cell_type": "markdown",
      "metadata": {
        "id": "NgYGBWl9eDr2"
      },
      "source": [
        "# More Python\n",
        "\n",
        "## Useful Built In Functions\n",
        "\n",
        "|               |             |              |              |                |\n",
        "|---------------|-------------|--------------|--------------|----------------|\n",
        "| abs()         | delattr()   | hash()       | memoryview() | set()          |\n",
        "| all()         | dict()      | help()       | min()        | setattr()      |\n",
        "| any()         | dir()       | hex()        | next()       | slice()        |\n",
        "| ascii()       | divmod()    | id()         | object()     | sorted()       |\n",
        "| bin()         | enumerate() | input()      | oct()        | staticmethod() |\n",
        "| bool()        | eval()      | int()        | open()       | str()          |\n",
        "| breakpoint()  | exec()      | isinstance() | ord()        | sum()          |\n",
        "| bytearray()   | filter()    | issubclass() | pow()        | super()        |\n",
        "| bytes()       | float()     | iter()       | print()      | tuple()        |\n",
        "| callable()    | format()    | len()        | property()   | type()         |\n",
        "| chr()         | frozenset() | list()       | range()      | vars()         |\n",
        "| classmethod() | getattr()   | locals()     | repr()       | zip()          |\n",
        "| compile()     | globals()   | map()        | reversed()   | \\__import__()   |\n",
        "| complex()     | hasattr()   | max()        | round()      |                |"
      ]
    },
    {
      "cell_type": "markdown",
      "metadata": {
        "id": "fyl0aw6AeDr2"
      },
      "source": [
        "### `abs(x)` -> returns absolute value of x   \n"
      ]
    },
    {
      "cell_type": "code",
      "metadata": {
        "id": "Rz-QATcGeDr2"
      },
      "source": [
        "abs(10)"
      ],
      "execution_count": null,
      "outputs": []
    },
    {
      "cell_type": "code",
      "metadata": {
        "id": "C1PE0UDDeDr2"
      },
      "source": [
        "abs(-10)"
      ],
      "execution_count": null,
      "outputs": []
    },
    {
      "cell_type": "code",
      "metadata": {
        "id": "XH0tSir_eDr3"
      },
      "source": [
        "abs(0)"
      ],
      "execution_count": null,
      "outputs": []
    },
    {
      "cell_type": "markdown",
      "metadata": {
        "id": "hV05_Zv6eDr3"
      },
      "source": [
        "### `bool(x)` -> casts x as bool "
      ]
    },
    {
      "cell_type": "code",
      "metadata": {
        "id": "0VPA-IieeDr3"
      },
      "source": [
        "bool(0), bool(\"\"), bool(None)"
      ],
      "execution_count": null,
      "outputs": []
    },
    {
      "cell_type": "code",
      "metadata": {
        "id": "QCqlsawCeDr3"
      },
      "source": [
        "bool(1), bool(24)"
      ],
      "execution_count": null,
      "outputs": []
    },
    {
      "cell_type": "code",
      "metadata": {
        "id": "as9PEtl_eDr3"
      },
      "source": [
        "bool(True), bool(4), bool(\"s\")"
      ],
      "execution_count": null,
      "outputs": []
    },
    {
      "cell_type": "markdown",
      "metadata": {
        "id": "oRCkEYV4eDr3"
      },
      "source": [
        "### `callable(x)` -> returns True if x is a function  \n"
      ]
    },
    {
      "cell_type": "code",
      "metadata": {
        "id": "ZhJFD4bQeDr3"
      },
      "source": [
        "callable(print)"
      ],
      "execution_count": null,
      "outputs": []
    },
    {
      "cell_type": "code",
      "metadata": {
        "id": "EwpxRbfLeDr3"
      },
      "source": [
        "callable(bool)"
      ],
      "execution_count": null,
      "outputs": []
    },
    {
      "cell_type": "code",
      "metadata": {
        "id": "I0hyC9tgeDr3"
      },
      "source": [
        "s = \"string\"\n",
        "callable(s)"
      ],
      "execution_count": null,
      "outputs": []
    },
    {
      "cell_type": "markdown",
      "metadata": {
        "id": "bOiKamv-eDr3"
      },
      "source": [
        "### `dict()` -> returns dict  "
      ]
    },
    {
      "cell_type": "code",
      "metadata": {
        "id": "AoTJQrM-eDr3"
      },
      "source": [
        "d = dict()\n",
        "type(d)"
      ],
      "execution_count": null,
      "outputs": []
    },
    {
      "cell_type": "markdown",
      "metadata": {
        "id": "BVOOq77ReDr4"
      },
      "source": [
        "### `dir(x)` -> returns attributes and methods of object x  "
      ]
    },
    {
      "cell_type": "code",
      "metadata": {
        "id": "NZBavWeceDr4"
      },
      "source": [
        "dir()"
      ],
      "execution_count": null,
      "outputs": []
    },
    {
      "cell_type": "code",
      "metadata": {
        "id": "As9CFv0UeDr4"
      },
      "source": [
        "dir(help)"
      ],
      "execution_count": null,
      "outputs": []
    },
    {
      "cell_type": "markdown",
      "metadata": {
        "id": "EKyqq_T0eDr4"
      },
      "source": [
        " ### `float(x)` -> casts x to a float  "
      ]
    },
    {
      "cell_type": "code",
      "metadata": {
        "id": "yCauPUPieDr4"
      },
      "source": [
        "float(1)"
      ],
      "execution_count": null,
      "outputs": []
    },
    {
      "cell_type": "code",
      "metadata": {
        "id": "q_-9w-bWeDr4"
      },
      "source": [
        "float(\"1\")"
      ],
      "execution_count": null,
      "outputs": []
    },
    {
      "cell_type": "code",
      "metadata": {
        "id": "8MwtbIWreDr4"
      },
      "source": [
        "float(\"s\")"
      ],
      "execution_count": null,
      "outputs": []
    },
    {
      "cell_type": "markdown",
      "metadata": {
        "id": "NGYb5OajeDr4"
      },
      "source": [
        "\n",
        "### `hex(x)` -> casts int x as a hex   \n"
      ]
    },
    {
      "cell_type": "code",
      "metadata": {
        "id": "mHveASKeeDr4"
      },
      "source": [
        "hex(0)"
      ],
      "execution_count": null,
      "outputs": []
    },
    {
      "cell_type": "code",
      "metadata": {
        "id": "tsQwXTwbeDr4"
      },
      "source": [
        "hex(0.0)"
      ],
      "execution_count": null,
      "outputs": []
    },
    {
      "cell_type": "code",
      "metadata": {
        "id": "YrzYlz3ieDr4"
      },
      "source": [
        "hex(\"0\")"
      ],
      "execution_count": null,
      "outputs": []
    },
    {
      "cell_type": "markdown",
      "metadata": {
        "id": "PkVCK_qGeDr4"
      },
      "source": [
        "### `id(x)` -> returns id for object x  \n"
      ]
    },
    {
      "cell_type": "code",
      "metadata": {
        "id": "CtI0sXJGeDr5"
      },
      "source": [
        "s = \"string\"\n",
        "d = \"string\"\n",
        "e = \"strin\"\n",
        "f = e[:]\n",
        "g = s[:-1]\n",
        "h = d[:-1]\n",
        "print(f)\n",
        "id(s), id(d), id(e), id(f), id(g), id(h)"
      ],
      "execution_count": null,
      "outputs": []
    },
    {
      "cell_type": "code",
      "metadata": {
        "id": "rLBSVUc9eDr5"
      },
      "source": [
        "s is d"
      ],
      "execution_count": null,
      "outputs": []
    },
    {
      "cell_type": "code",
      "metadata": {
        "id": "rvlQyuIzeDr5"
      },
      "source": [
        "s == d"
      ],
      "execution_count": null,
      "outputs": []
    },
    {
      "cell_type": "code",
      "metadata": {
        "id": "PTkbGq-qeDr5"
      },
      "source": [
        "e == g"
      ],
      "execution_count": null,
      "outputs": []
    },
    {
      "cell_type": "code",
      "metadata": {
        "id": "mYr8NhuIeDr5"
      },
      "source": [
        "e is g"
      ],
      "execution_count": null,
      "outputs": []
    },
    {
      "cell_type": "code",
      "metadata": {
        "id": "dC6zL7zHeDr5"
      },
      "source": [
        "s = [4, 5]\n",
        "d = [4, 5]\n",
        "id(s), id(d)"
      ],
      "execution_count": null,
      "outputs": []
    },
    {
      "cell_type": "code",
      "metadata": {
        "id": "YKsMwGx8eDr5"
      },
      "source": [
        "s is d"
      ],
      "execution_count": null,
      "outputs": []
    },
    {
      "cell_type": "code",
      "metadata": {
        "id": "IbpuJLMweDr5"
      },
      "source": [
        "s == d"
      ],
      "execution_count": null,
      "outputs": []
    },
    {
      "cell_type": "markdown",
      "metadata": {
        "id": "EfDlQdL2eDr5"
      },
      "source": [
        "### `input()`  -> returns user input"
      ]
    },
    {
      "cell_type": "code",
      "metadata": {
        "id": "NKtCK7gQeDr5"
      },
      "source": [
        "input()"
      ],
      "execution_count": null,
      "outputs": []
    },
    {
      "cell_type": "code",
      "metadata": {
        "id": "_PrvIN5ZeDr5"
      },
      "source": [
        "s = input()"
      ],
      "execution_count": null,
      "outputs": []
    },
    {
      "cell_type": "code",
      "metadata": {
        "id": "ugq5D92xeDr6"
      },
      "source": [
        "s"
      ],
      "execution_count": null,
      "outputs": []
    },
    {
      "cell_type": "markdown",
      "metadata": {
        "id": "2-bBJrLceDr6"
      },
      "source": [
        "### `int(x)` -> casts x as int  "
      ]
    },
    {
      "cell_type": "code",
      "metadata": {
        "id": "I9a67OXpeDr6"
      },
      "source": [
        "int(0)"
      ],
      "execution_count": null,
      "outputs": []
    },
    {
      "cell_type": "code",
      "metadata": {
        "id": "-S2NijJteDr6"
      },
      "source": [
        "int(\"1\")"
      ],
      "execution_count": null,
      "outputs": []
    },
    {
      "cell_type": "code",
      "metadata": {
        "id": "cy7Ogg0qeDr6"
      },
      "source": [
        "int(True)"
      ],
      "execution_count": null,
      "outputs": []
    },
    {
      "cell_type": "markdown",
      "metadata": {
        "id": "xoZRj-BHeDr6"
      },
      "source": [
        "### `len(x)` -> returns count of x  "
      ]
    },
    {
      "cell_type": "code",
      "metadata": {
        "id": "Ksfs-f8veDr6"
      },
      "source": [
        "len(\"string\")"
      ],
      "execution_count": null,
      "outputs": []
    },
    {
      "cell_type": "code",
      "metadata": {
        "id": "dj3jg3dpeDr6"
      },
      "source": [
        "len([1,2,3,4])"
      ],
      "execution_count": null,
      "outputs": []
    },
    {
      "cell_type": "code",
      "metadata": {
        "id": "1u6CS1JxeDr6"
      },
      "source": [
        "len((1,2,3,4))"
      ],
      "execution_count": null,
      "outputs": []
    },
    {
      "cell_type": "code",
      "metadata": {
        "id": "PSvX-K8seDr6"
      },
      "source": [
        "len({'a':1, 'b':2})"
      ],
      "execution_count": null,
      "outputs": []
    },
    {
      "cell_type": "markdown",
      "metadata": {
        "id": "BIdbLZqMeDr6"
      },
      "source": [
        "### `list()`  -> returns list"
      ]
    },
    {
      "cell_type": "code",
      "metadata": {
        "id": "3J8LSbMleDr7"
      },
      "source": [
        "l = list()"
      ],
      "execution_count": null,
      "outputs": []
    },
    {
      "cell_type": "code",
      "metadata": {
        "id": "d-Vr8ksbeDr7"
      },
      "source": [
        "l.append(4)"
      ],
      "execution_count": null,
      "outputs": []
    },
    {
      "cell_type": "code",
      "metadata": {
        "id": "7ozUv3zbeDr7"
      },
      "source": [
        "l"
      ],
      "execution_count": null,
      "outputs": []
    },
    {
      "cell_type": "markdown",
      "metadata": {
        "id": "A2V0CNpveDr7"
      },
      "source": [
        "### `pow(x, y)` -> returns x to the y power  "
      ]
    },
    {
      "cell_type": "code",
      "metadata": {
        "id": "U7U3FF_reDr7"
      },
      "source": [
        "pow(2,4)"
      ],
      "execution_count": null,
      "outputs": []
    },
    {
      "cell_type": "code",
      "metadata": {
        "id": "OgHf7VrdeDr7"
      },
      "source": [
        "pow(25,2)"
      ],
      "execution_count": null,
      "outputs": []
    },
    {
      "cell_type": "markdown",
      "metadata": {
        "id": "2Po5LRKVeDr7"
      },
      "source": [
        "### `print()`  -> prints argument"
      ]
    },
    {
      "cell_type": "code",
      "metadata": {
        "id": "BvHpfSQNeDr7"
      },
      "source": [
        "print(\"hello\")"
      ],
      "execution_count": null,
      "outputs": []
    },
    {
      "cell_type": "code",
      "metadata": {
        "id": "lYVvIvhAeDr7"
      },
      "source": [
        "print(25)"
      ],
      "execution_count": null,
      "outputs": []
    },
    {
      "cell_type": "code",
      "metadata": {
        "id": "D9rrAlxceDr7"
      },
      "source": [
        "print(True)"
      ],
      "execution_count": null,
      "outputs": []
    },
    {
      "cell_type": "markdown",
      "metadata": {
        "id": "Y2bjvsHseDr7"
      },
      "source": [
        "### `range()`  returns iterable of sequential values"
      ]
    },
    {
      "cell_type": "code",
      "metadata": {
        "id": "-H38MCDBeDr8"
      },
      "source": [
        "range(100)"
      ],
      "execution_count": null,
      "outputs": []
    },
    {
      "cell_type": "code",
      "metadata": {
        "id": "w22TXaWWeDr8"
      },
      "source": [
        "range(5,10)"
      ],
      "execution_count": null,
      "outputs": []
    },
    {
      "cell_type": "code",
      "metadata": {
        "id": "YfDPoCbYeDr8"
      },
      "source": [
        "[i for i in range(10)]"
      ],
      "execution_count": null,
      "outputs": []
    },
    {
      "cell_type": "markdown",
      "metadata": {
        "id": "kMKCAZQseDr8"
      },
      "source": [
        "### `round(x)` -> returns x rounded to nearest"
      ]
    },
    {
      "cell_type": "code",
      "metadata": {
        "id": "Zd6-gp9GeDr8"
      },
      "source": [
        "round(132320.0324534521, 10)"
      ],
      "execution_count": null,
      "outputs": []
    },
    {
      "cell_type": "markdown",
      "metadata": {
        "id": "_SVG-GZbeDr8"
      },
      "source": [
        "### `set()` "
      ]
    },
    {
      "cell_type": "code",
      "metadata": {
        "id": "mzGycazCeDr8"
      },
      "source": [
        "s = set()"
      ],
      "execution_count": null,
      "outputs": []
    },
    {
      "cell_type": "code",
      "metadata": {
        "id": "TDgzj_aieDr8"
      },
      "source": [
        "s.add(4)"
      ],
      "execution_count": null,
      "outputs": []
    },
    {
      "cell_type": "code",
      "metadata": {
        "id": "Wgn8jeVUeDr9"
      },
      "source": [
        "s"
      ],
      "execution_count": null,
      "outputs": []
    },
    {
      "cell_type": "markdown",
      "metadata": {
        "id": "dsuY1cqJeDr9"
      },
      "source": [
        "### `str(x)`  -> casts x as string"
      ]
    },
    {
      "cell_type": "code",
      "metadata": {
        "id": "7YksbCMXeDr9"
      },
      "source": [
        "str(718)"
      ],
      "execution_count": null,
      "outputs": []
    },
    {
      "cell_type": "code",
      "metadata": {
        "id": "8mTfIp3TeDr9"
      },
      "source": [
        "str(True)"
      ],
      "execution_count": null,
      "outputs": []
    },
    {
      "cell_type": "code",
      "metadata": {
        "id": "1eBTte4HeDr9"
      },
      "source": [
        "str([2,3,4,5])"
      ],
      "execution_count": null,
      "outputs": []
    },
    {
      "cell_type": "code",
      "metadata": {
        "id": "oP9bejlCeDr9"
      },
      "source": [
        "t"
      ],
      "execution_count": null,
      "outputs": []
    },
    {
      "cell_type": "markdown",
      "metadata": {
        "id": "SMWMKgW5eDr9"
      },
      "source": [
        "### `type()`  "
      ]
    },
    {
      "cell_type": "code",
      "metadata": {
        "id": "GOqCRfDheDr9"
      },
      "source": [
        "type(\"string\")"
      ],
      "execution_count": null,
      "outputs": []
    },
    {
      "cell_type": "markdown",
      "metadata": {
        "id": "XB7bTquneDr9"
      },
      "source": [
        "### Dunder methods"
      ]
    },
    {
      "cell_type": "code",
      "metadata": {
        "id": "Dyyyw_-leDr-"
      },
      "source": [
        "s = str()\n",
        "[i for i in dir(s) if i.endswith('_')]"
      ],
      "execution_count": null,
      "outputs": []
    },
    {
      "cell_type": "code",
      "metadata": {
        "id": "K65YNxuaeDr-"
      },
      "source": [
        "print(s.__doc__)"
      ],
      "execution_count": null,
      "outputs": []
    },
    {
      "cell_type": "code",
      "metadata": {
        "id": "MoqyzfIGeDr-"
      },
      "source": [
        "print(s.__str__)"
      ],
      "execution_count": null,
      "outputs": []
    },
    {
      "cell_type": "code",
      "metadata": {
        "id": "75J1Oma1eDr-"
      },
      "source": [
        "print(s.__repr__)"
      ],
      "execution_count": null,
      "outputs": []
    },
    {
      "cell_type": "code",
      "metadata": {
        "id": "Yv7hURGweDr-"
      },
      "source": [
        "print(s.__len__)"
      ],
      "execution_count": null,
      "outputs": []
    },
    {
      "cell_type": "code",
      "metadata": {
        "id": "ThXyN9_6eDr-"
      },
      "source": [
        "print(s.__class__)"
      ],
      "execution_count": null,
      "outputs": []
    },
    {
      "cell_type": "code",
      "metadata": {
        "id": "a80Mm7ddeDr-"
      },
      "source": [
        "print(s.__dir__)"
      ],
      "execution_count": null,
      "outputs": []
    },
    {
      "cell_type": "code",
      "metadata": {
        "id": "eu3hHck-eDr-"
      },
      "source": [
        "print(s.__init__)"
      ],
      "execution_count": null,
      "outputs": []
    },
    {
      "cell_type": "code",
      "metadata": {
        "scrolled": true,
        "id": "tBzs2b6QeDr-"
      },
      "source": [
        "bool.__doc__"
      ],
      "execution_count": null,
      "outputs": []
    },
    {
      "cell_type": "markdown",
      "metadata": {
        "id": "Hw3w0JAaeDr-"
      },
      "source": [
        "# Built In Exceptions"
      ]
    },
    {
      "cell_type": "code",
      "metadata": {
        "id": "JIqnzun3eDr-"
      },
      "source": [
        "\"123\"[9]"
      ],
      "execution_count": null,
      "outputs": []
    },
    {
      "cell_type": "code",
      "metadata": {
        "id": "Ywcr4OLAeDr_"
      },
      "source": [
        "try:\n",
        "    \"123\"[9]\n",
        "except Exception as e:\n",
        "    print(e)"
      ],
      "execution_count": null,
      "outputs": []
    },
    {
      "cell_type": "code",
      "metadata": {
        "id": "8-FdEQG_eDr_"
      },
      "source": [
        "raise Exception"
      ],
      "execution_count": null,
      "outputs": []
    },
    {
      "cell_type": "code",
      "metadata": {
        "id": "lqxOeYXCeDr_"
      },
      "source": [
        "type(Exception)"
      ],
      "execution_count": null,
      "outputs": []
    },
    {
      "cell_type": "markdown",
      "metadata": {
        "id": "Gyv8XfddeDr_"
      },
      "source": [
        "# Python Documentation"
      ]
    },
    {
      "cell_type": "code",
      "metadata": {
        "scrolled": true,
        "id": "3EnIXVAkeDr_"
      },
      "source": [
        "help()"
      ],
      "execution_count": null,
      "outputs": []
    },
    {
      "cell_type": "markdown",
      "metadata": {
        "id": "LzPQlNJHeDr_"
      },
      "source": [
        "<div style=\"background: #000;\n",
        "            color: #FFF;\n",
        "            margin: 0px;\n",
        "                padding: 10px 0px 20px 0px;\n",
        "            text-align: center; \n",
        "                \">\n",
        "    <h1>Extended Lab</h1>\n",
        "</div>\n"
      ]
    },
    {
      "cell_type": "markdown",
      "metadata": {
        "id": "wbvaeAlDeDr_"
      },
      "source": [
        "### Question 1: \n",
        "\n",
        "Explain what data types are in your own words."
      ]
    },
    {
      "cell_type": "markdown",
      "metadata": {
        "id": "becI4GUseDr_"
      },
      "source": [
        "Data types are defined by the values it can take and the operations that can be used on it. Data types include integers, floats, strings, booleans, and characters. Some data types interact with each other differently."
      ]
    },
    {
      "cell_type": "markdown",
      "metadata": {
        "id": "BPtv8w74eDr_"
      },
      "source": [
        "## Question 2:\n",
        "\n",
        "In your own words, explain what a float is and why sometimes it gives an incorrect value."
      ]
    },
    {
      "cell_type": "markdown",
      "metadata": {
        "id": "qZQjO2pweDsA"
      },
      "source": [
        "A float is a number with a decimal. It sometimes gives an incorrect value because they are approximations."
      ]
    },
    {
      "cell_type": "markdown",
      "metadata": {
        "id": "KK85jtjaeDsA"
      },
      "source": [
        "### Exercise 1:\n",
        "\n",
        "Store your first name, in lowercase, in a variable.\n",
        "Using that one variable, print your name in lowercase, Titlecase, and UPPERCASE.\n"
      ]
    },
    {
      "cell_type": "code",
      "metadata": {
        "id": "SZN0ZItGeDsA",
        "outputId": "dafa6ec2-b3c2-4ec4-e28d-d56c0fbf41a1",
        "colab": {
          "base_uri": "https://localhost:8080/"
        }
      },
      "source": [
        "fname = \"dealo\"\n",
        "print(fname.lower())\n",
        "print(fname.title())\n",
        "print(fname.upper())"
      ],
      "execution_count": 19,
      "outputs": [
        {
          "output_type": "stream",
          "name": "stdout",
          "text": [
            "dealo\n",
            "Dealo\n",
            "DEALO\n"
          ]
        }
      ]
    },
    {
      "cell_type": "markdown",
      "metadata": {
        "id": "Noy7PbeaeDsA"
      },
      "source": [
        "### Exercise 2:\n",
        "\n",
        "Find a quote that you like. Store the quote in a variable, with an appropriate introduction such as \"Ken Thompson once said, 'One of my most productive days was throwing away 1000 lines of code'\". Print the quote 1000 times."
      ]
    },
    {
      "cell_type": "code",
      "metadata": {
        "id": "oYFVqptBeDsA",
        "outputId": "44e8775f-68fb-4307-e57e-b4de82fc91d6",
        "colab": {
          "base_uri": "https://localhost:8080/"
        }
      },
      "source": [
        "quote = \"Senaca once said, 'Envy of other people shows how they are unhappy. Their continual attention to others behavior shows how they are boring.' \"\n",
        "print(quote * 1000)"
      ],
      "execution_count": 52,
      "outputs": [
        {
          "output_type": "stream",
          "name": "stdout",
          "text": [
            "Senaca once said, 'Envy of other people shows how they are unhappy. Their continual attention to others behavior shows how they are boring.' Senaca once said, 'Envy of other people shows how they are unhappy. Their continual attention to others behavior shows how they are boring.' Senaca once said, 'Envy of other people shows how they are unhappy. Their continual attention to others behavior shows how they are boring.' Senaca once said, 'Envy of other people shows how they are unhappy. Their continual attention to others behavior shows how they are boring.' Senaca once said, 'Envy of other people shows how they are unhappy. Their continual attention to others behavior shows how they are boring.' Senaca once said, 'Envy of other people shows how they are unhappy. Their continual attention to others behavior shows how they are boring.' Senaca once said, 'Envy of other people shows how they are unhappy. Their continual attention to others behavior shows how they are boring.' Senaca once said, 'Envy of other people shows how they are unhappy. Their continual attention to others behavior shows how they are boring.' Senaca once said, 'Envy of other people shows how they are unhappy. Their continual attention to others behavior shows how they are boring.' Senaca once said, 'Envy of other people shows how they are unhappy. Their continual attention to others behavior shows how they are boring.' Senaca once said, 'Envy of other people shows how they are unhappy. Their continual attention to others behavior shows how they are boring.' Senaca once said, 'Envy of other people shows how they are unhappy. Their continual attention to others behavior shows how they are boring.' Senaca once said, 'Envy of other people shows how they are unhappy. Their continual attention to others behavior shows how they are boring.' Senaca once said, 'Envy of other people shows how they are unhappy. Their continual attention to others behavior shows how they are boring.' Senaca once said, 'Envy of other people shows how they are unhappy. Their continual attention to others behavior shows how they are boring.' Senaca once said, 'Envy of other people shows how they are unhappy. Their continual attention to others behavior shows how they are boring.' Senaca once said, 'Envy of other people shows how they are unhappy. Their continual attention to others behavior shows how they are boring.' Senaca once said, 'Envy of other people shows how they are unhappy. Their continual attention to others behavior shows how they are boring.' Senaca once said, 'Envy of other people shows how they are unhappy. Their continual attention to others behavior shows how they are boring.' Senaca once said, 'Envy of other people shows how they are unhappy. Their continual attention to others behavior shows how they are boring.' Senaca once said, 'Envy of other people shows how they are unhappy. Their continual attention to others behavior shows how they are boring.' Senaca once said, 'Envy of other people shows how they are unhappy. Their continual attention to others behavior shows how they are boring.' Senaca once said, 'Envy of other people shows how they are unhappy. Their continual attention to others behavior shows how they are boring.' Senaca once said, 'Envy of other people shows how they are unhappy. Their continual attention to others behavior shows how they are boring.' Senaca once said, 'Envy of other people shows how they are unhappy. Their continual attention to others behavior shows how they are boring.' Senaca once said, 'Envy of other people shows how they are unhappy. Their continual attention to others behavior shows how they are boring.' Senaca once said, 'Envy of other people shows how they are unhappy. Their continual attention to others behavior shows how they are boring.' Senaca once said, 'Envy of other people shows how they are unhappy. Their continual attention to others behavior shows how they are boring.' Senaca once said, 'Envy of other people shows how they are unhappy. Their continual attention to others behavior shows how they are boring.' Senaca once said, 'Envy of other people shows how they are unhappy. Their continual attention to others behavior shows how they are boring.' Senaca once said, 'Envy of other people shows how they are unhappy. Their continual attention to others behavior shows how they are boring.' Senaca once said, 'Envy of other people shows how they are unhappy. Their continual attention to others behavior shows how they are boring.' Senaca once said, 'Envy of other people shows how they are unhappy. Their continual attention to others behavior shows how they are boring.' Senaca once said, 'Envy of other people shows how they are unhappy. Their continual attention to others behavior shows how they are boring.' Senaca once said, 'Envy of other people shows how they are unhappy. Their continual attention to others behavior shows how they are boring.' Senaca once said, 'Envy of other people shows how they are unhappy. Their continual attention to others behavior shows how they are boring.' Senaca once said, 'Envy of other people shows how they are unhappy. Their continual attention to others behavior shows how they are boring.' Senaca once said, 'Envy of other people shows how they are unhappy. Their continual attention to others behavior shows how they are boring.' Senaca once said, 'Envy of other people shows how they are unhappy. Their continual attention to others behavior shows how they are boring.' Senaca once said, 'Envy of other people shows how they are unhappy. Their continual attention to others behavior shows how they are boring.' Senaca once said, 'Envy of other people shows how they are unhappy. Their continual attention to others behavior shows how they are boring.' Senaca once said, 'Envy of other people shows how they are unhappy. Their continual attention to others behavior shows how they are boring.' Senaca once said, 'Envy of other people shows how they are unhappy. Their continual attention to others behavior shows how they are boring.' Senaca once said, 'Envy of other people shows how they are unhappy. Their continual attention to others behavior shows how they are boring.' Senaca once said, 'Envy of other people shows how they are unhappy. Their continual attention to others behavior shows how they are boring.' Senaca once said, 'Envy of other people shows how they are unhappy. Their continual attention to others behavior shows how they are boring.' Senaca once said, 'Envy of other people shows how they are unhappy. Their continual attention to others behavior shows how they are boring.' Senaca once said, 'Envy of other people shows how they are unhappy. Their continual attention to others behavior shows how they are boring.' Senaca once said, 'Envy of other people shows how they are unhappy. Their continual attention to others behavior shows how they are boring.' Senaca once said, 'Envy of other people shows how they are unhappy. Their continual attention to others behavior shows how they are boring.' Senaca once said, 'Envy of other people shows how they are unhappy. Their continual attention to others behavior shows how they are boring.' Senaca once said, 'Envy of other people shows how they are unhappy. Their continual attention to others behavior shows how they are boring.' Senaca once said, 'Envy of other people shows how they are unhappy. Their continual attention to others behavior shows how they are boring.' Senaca once said, 'Envy of other people shows how they are unhappy. Their continual attention to others behavior shows how they are boring.' Senaca once said, 'Envy of other people shows how they are unhappy. Their continual attention to others behavior shows how they are boring.' Senaca once said, 'Envy of other people shows how they are unhappy. Their continual attention to others behavior shows how they are boring.' Senaca once said, 'Envy of other people shows how they are unhappy. Their continual attention to others behavior shows how they are boring.' Senaca once said, 'Envy of other people shows how they are unhappy. Their continual attention to others behavior shows how they are boring.' Senaca once said, 'Envy of other people shows how they are unhappy. Their continual attention to others behavior shows how they are boring.' Senaca once said, 'Envy of other people shows how they are unhappy. Their continual attention to others behavior shows how they are boring.' Senaca once said, 'Envy of other people shows how they are unhappy. Their continual attention to others behavior shows how they are boring.' Senaca once said, 'Envy of other people shows how they are unhappy. Their continual attention to others behavior shows how they are boring.' Senaca once said, 'Envy of other people shows how they are unhappy. Their continual attention to others behavior shows how they are boring.' Senaca once said, 'Envy of other people shows how they are unhappy. Their continual attention to others behavior shows how they are boring.' Senaca once said, 'Envy of other people shows how they are unhappy. Their continual attention to others behavior shows how they are boring.' Senaca once said, 'Envy of other people shows how they are unhappy. Their continual attention to others behavior shows how they are boring.' Senaca once said, 'Envy of other people shows how they are unhappy. Their continual attention to others behavior shows how they are boring.' Senaca once said, 'Envy of other people shows how they are unhappy. Their continual attention to others behavior shows how they are boring.' Senaca once said, 'Envy of other people shows how they are unhappy. Their continual attention to others behavior shows how they are boring.' Senaca once said, 'Envy of other people shows how they are unhappy. Their continual attention to others behavior shows how they are boring.' Senaca once said, 'Envy of other people shows how they are unhappy. Their continual attention to others behavior shows how they are boring.' Senaca once said, 'Envy of other people shows how they are unhappy. Their continual attention to others behavior shows how they are boring.' Senaca once said, 'Envy of other people shows how they are unhappy. Their continual attention to others behavior shows how they are boring.' Senaca once said, 'Envy of other people shows how they are unhappy. Their continual attention to others behavior shows how they are boring.' Senaca once said, 'Envy of other people shows how they are unhappy. Their continual attention to others behavior shows how they are boring.' Senaca once said, 'Envy of other people shows how they are unhappy. Their continual attention to others behavior shows how they are boring.' Senaca once said, 'Envy of other people shows how they are unhappy. Their continual attention to others behavior shows how they are boring.' Senaca once said, 'Envy of other people shows how they are unhappy. Their continual attention to others behavior shows how they are boring.' Senaca once said, 'Envy of other people shows how they are unhappy. Their continual attention to others behavior shows how they are boring.' Senaca once said, 'Envy of other people shows how they are unhappy. Their continual attention to others behavior shows how they are boring.' Senaca once said, 'Envy of other people shows how they are unhappy. Their continual attention to others behavior shows how they are boring.' Senaca once said, 'Envy of other people shows how they are unhappy. Their continual attention to others behavior shows how they are boring.' Senaca once said, 'Envy of other people shows how they are unhappy. Their continual attention to others behavior shows how they are boring.' Senaca once said, 'Envy of other people shows how they are unhappy. Their continual attention to others behavior shows how they are boring.' Senaca once said, 'Envy of other people shows how they are unhappy. Their continual attention to others behavior shows how they are boring.' Senaca once said, 'Envy of other people shows how they are unhappy. Their continual attention to others behavior shows how they are boring.' Senaca once said, 'Envy of other people shows how they are unhappy. Their continual attention to others behavior shows how they are boring.' Senaca once said, 'Envy of other people shows how they are unhappy. Their continual attention to others behavior shows how they are boring.' Senaca once said, 'Envy of other people shows how they are unhappy. Their continual attention to others behavior shows how they are boring.' Senaca once said, 'Envy of other people shows how they are unhappy. Their continual attention to others behavior shows how they are boring.' Senaca once said, 'Envy of other people shows how they are unhappy. Their continual attention to others behavior shows how they are boring.' Senaca once said, 'Envy of other people shows how they are unhappy. Their continual attention to others behavior shows how they are boring.' Senaca once said, 'Envy of other people shows how they are unhappy. Their continual attention to others behavior shows how they are boring.' Senaca once said, 'Envy of other people shows how they are unhappy. Their continual attention to others behavior shows how they are boring.' Senaca once said, 'Envy of other people shows how they are unhappy. Their continual attention to others behavior shows how they are boring.' Senaca once said, 'Envy of other people shows how they are unhappy. Their continual attention to others behavior shows how they are boring.' Senaca once said, 'Envy of other people shows how they are unhappy. Their continual attention to others behavior shows how they are boring.' Senaca once said, 'Envy of other people shows how they are unhappy. Their continual attention to others behavior shows how they are boring.' Senaca once said, 'Envy of other people shows how they are unhappy. Their continual attention to others behavior shows how they are boring.' Senaca once said, 'Envy of other people shows how they are unhappy. Their continual attention to others behavior shows how they are boring.' Senaca once said, 'Envy of other people shows how they are unhappy. Their continual attention to others behavior shows how they are boring.' Senaca once said, 'Envy of other people shows how they are unhappy. Their continual attention to others behavior shows how they are boring.' Senaca once said, 'Envy of other people shows how they are unhappy. Their continual attention to others behavior shows how they are boring.' Senaca once said, 'Envy of other people shows how they are unhappy. Their continual attention to others behavior shows how they are boring.' Senaca once said, 'Envy of other people shows how they are unhappy. Their continual attention to others behavior shows how they are boring.' Senaca once said, 'Envy of other people shows how they are unhappy. Their continual attention to others behavior shows how they are boring.' Senaca once said, 'Envy of other people shows how they are unhappy. Their continual attention to others behavior shows how they are boring.' Senaca once said, 'Envy of other people shows how they are unhappy. Their continual attention to others behavior shows how they are boring.' Senaca once said, 'Envy of other people shows how they are unhappy. Their continual attention to others behavior shows how they are boring.' Senaca once said, 'Envy of other people shows how they are unhappy. Their continual attention to others behavior shows how they are boring.' Senaca once said, 'Envy of other people shows how they are unhappy. Their continual attention to others behavior shows how they are boring.' Senaca once said, 'Envy of other people shows how they are unhappy. Their continual attention to others behavior shows how they are boring.' Senaca once said, 'Envy of other people shows how they are unhappy. Their continual attention to others behavior shows how they are boring.' Senaca once said, 'Envy of other people shows how they are unhappy. Their continual attention to others behavior shows how they are boring.' Senaca once said, 'Envy of other people shows how they are unhappy. Their continual attention to others behavior shows how they are boring.' Senaca once said, 'Envy of other people shows how they are unhappy. Their continual attention to others behavior shows how they are boring.' Senaca once said, 'Envy of other people shows how they are unhappy. Their continual attention to others behavior shows how they are boring.' Senaca once said, 'Envy of other people shows how they are unhappy. Their continual attention to others behavior shows how they are boring.' Senaca once said, 'Envy of other people shows how they are unhappy. Their continual attention to others behavior shows how they are boring.' Senaca once said, 'Envy of other people shows how they are unhappy. Their continual attention to others behavior shows how they are boring.' Senaca once said, 'Envy of other people shows how they are unhappy. Their continual attention to others behavior shows how they are boring.' Senaca once said, 'Envy of other people shows how they are unhappy. Their continual attention to others behavior shows how they are boring.' Senaca once said, 'Envy of other people shows how they are unhappy. Their continual attention to others behavior shows how they are boring.' Senaca once said, 'Envy of other people shows how they are unhappy. Their continual attention to others behavior shows how they are boring.' Senaca once said, 'Envy of other people shows how they are unhappy. Their continual attention to others behavior shows how they are boring.' Senaca once said, 'Envy of other people shows how they are unhappy. Their continual attention to others behavior shows how they are boring.' Senaca once said, 'Envy of other people shows how they are unhappy. Their continual attention to others behavior shows how they are boring.' Senaca once said, 'Envy of other people shows how they are unhappy. Their continual attention to others behavior shows how they are boring.' Senaca once said, 'Envy of other people shows how they are unhappy. Their continual attention to others behavior shows how they are boring.' Senaca once said, 'Envy of other people shows how they are unhappy. Their continual attention to others behavior shows how they are boring.' Senaca once said, 'Envy of other people shows how they are unhappy. Their continual attention to others behavior shows how they are boring.' Senaca once said, 'Envy of other people shows how they are unhappy. Their continual attention to others behavior shows how they are boring.' Senaca once said, 'Envy of other people shows how they are unhappy. Their continual attention to others behavior shows how they are boring.' Senaca once said, 'Envy of other people shows how they are unhappy. Their continual attention to others behavior shows how they are boring.' Senaca once said, 'Envy of other people shows how they are unhappy. Their continual attention to others behavior shows how they are boring.' Senaca once said, 'Envy of other people shows how they are unhappy. Their continual attention to others behavior shows how they are boring.' Senaca once said, 'Envy of other people shows how they are unhappy. Their continual attention to others behavior shows how they are boring.' Senaca once said, 'Envy of other people shows how they are unhappy. Their continual attention to others behavior shows how they are boring.' Senaca once said, 'Envy of other people shows how they are unhappy. Their continual attention to others behavior shows how they are boring.' Senaca once said, 'Envy of other people shows how they are unhappy. Their continual attention to others behavior shows how they are boring.' Senaca once said, 'Envy of other people shows how they are unhappy. Their continual attention to others behavior shows how they are boring.' Senaca once said, 'Envy of other people shows how they are unhappy. Their continual attention to others behavior shows how they are boring.' Senaca once said, 'Envy of other people shows how they are unhappy. Their continual attention to others behavior shows how they are boring.' Senaca once said, 'Envy of other people shows how they are unhappy. Their continual attention to others behavior shows how they are boring.' Senaca once said, 'Envy of other people shows how they are unhappy. Their continual attention to others behavior shows how they are boring.' Senaca once said, 'Envy of other people shows how they are unhappy. Their continual attention to others behavior shows how they are boring.' Senaca once said, 'Envy of other people shows how they are unhappy. Their continual attention to others behavior shows how they are boring.' Senaca once said, 'Envy of other people shows how they are unhappy. Their continual attention to others behavior shows how they are boring.' Senaca once said, 'Envy of other people shows how they are unhappy. Their continual attention to others behavior shows how they are boring.' Senaca once said, 'Envy of other people shows how they are unhappy. Their continual attention to others behavior shows how they are boring.' Senaca once said, 'Envy of other people shows how they are unhappy. Their continual attention to others behavior shows how they are boring.' Senaca once said, 'Envy of other people shows how they are unhappy. Their continual attention to others behavior shows how they are boring.' Senaca once said, 'Envy of other people shows how they are unhappy. Their continual attention to others behavior shows how they are boring.' Senaca once said, 'Envy of other people shows how they are unhappy. Their continual attention to others behavior shows how they are boring.' Senaca once said, 'Envy of other people shows how they are unhappy. Their continual attention to others behavior shows how they are boring.' Senaca once said, 'Envy of other people shows how they are unhappy. Their continual attention to others behavior shows how they are boring.' Senaca once said, 'Envy of other people shows how they are unhappy. Their continual attention to others behavior shows how they are boring.' Senaca once said, 'Envy of other people shows how they are unhappy. Their continual attention to others behavior shows how they are boring.' Senaca once said, 'Envy of other people shows how they are unhappy. Their continual attention to others behavior shows how they are boring.' Senaca once said, 'Envy of other people shows how they are unhappy. Their continual attention to others behavior shows how they are boring.' Senaca once said, 'Envy of other people shows how they are unhappy. Their continual attention to others behavior shows how they are boring.' Senaca once said, 'Envy of other people shows how they are unhappy. Their continual attention to others behavior shows how they are boring.' Senaca once said, 'Envy of other people shows how they are unhappy. Their continual attention to others behavior shows how they are boring.' Senaca once said, 'Envy of other people shows how they are unhappy. Their continual attention to others behavior shows how they are boring.' Senaca once said, 'Envy of other people shows how they are unhappy. Their continual attention to others behavior shows how they are boring.' Senaca once said, 'Envy of other people shows how they are unhappy. Their continual attention to others behavior shows how they are boring.' Senaca once said, 'Envy of other people shows how they are unhappy. Their continual attention to others behavior shows how they are boring.' Senaca once said, 'Envy of other people shows how they are unhappy. Their continual attention to others behavior shows how they are boring.' Senaca once said, 'Envy of other people shows how they are unhappy. Their continual attention to others behavior shows how they are boring.' Senaca once said, 'Envy of other people shows how they are unhappy. Their continual attention to others behavior shows how they are boring.' Senaca once said, 'Envy of other people shows how they are unhappy. Their continual attention to others behavior shows how they are boring.' Senaca once said, 'Envy of other people shows how they are unhappy. Their continual attention to others behavior shows how they are boring.' Senaca once said, 'Envy of other people shows how they are unhappy. Their continual attention to others behavior shows how they are boring.' Senaca once said, 'Envy of other people shows how they are unhappy. Their continual attention to others behavior shows how they are boring.' Senaca once said, 'Envy of other people shows how they are unhappy. Their continual attention to others behavior shows how they are boring.' Senaca once said, 'Envy of other people shows how they are unhappy. Their continual attention to others behavior shows how they are boring.' Senaca once said, 'Envy of other people shows how they are unhappy. Their continual attention to others behavior shows how they are boring.' Senaca once said, 'Envy of other people shows how they are unhappy. Their continual attention to others behavior shows how they are boring.' Senaca once said, 'Envy of other people shows how they are unhappy. Their continual attention to others behavior shows how they are boring.' Senaca once said, 'Envy of other people shows how they are unhappy. Their continual attention to others behavior shows how they are boring.' Senaca once said, 'Envy of other people shows how they are unhappy. Their continual attention to others behavior shows how they are boring.' Senaca once said, 'Envy of other people shows how they are unhappy. Their continual attention to others behavior shows how they are boring.' Senaca once said, 'Envy of other people shows how they are unhappy. Their continual attention to others behavior shows how they are boring.' Senaca once said, 'Envy of other people shows how they are unhappy. Their continual attention to others behavior shows how they are boring.' Senaca once said, 'Envy of other people shows how they are unhappy. Their continual attention to others behavior shows how they are boring.' Senaca once said, 'Envy of other people shows how they are unhappy. Their continual attention to others behavior shows how they are boring.' Senaca once said, 'Envy of other people shows how they are unhappy. Their continual attention to others behavior shows how they are boring.' Senaca once said, 'Envy of other people shows how they are unhappy. Their continual attention to others behavior shows how they are boring.' Senaca once said, 'Envy of other people shows how they are unhappy. Their continual attention to others behavior shows how they are boring.' Senaca once said, 'Envy of other people shows how they are unhappy. Their continual attention to others behavior shows how they are boring.' Senaca once said, 'Envy of other people shows how they are unhappy. Their continual attention to others behavior shows how they are boring.' Senaca once said, 'Envy of other people shows how they are unhappy. Their continual attention to others behavior shows how they are boring.' Senaca once said, 'Envy of other people shows how they are unhappy. Their continual attention to others behavior shows how they are boring.' Senaca once said, 'Envy of other people shows how they are unhappy. Their continual attention to others behavior shows how they are boring.' Senaca once said, 'Envy of other people shows how they are unhappy. Their continual attention to others behavior shows how they are boring.' Senaca once said, 'Envy of other people shows how they are unhappy. Their continual attention to others behavior shows how they are boring.' Senaca once said, 'Envy of other people shows how they are unhappy. Their continual attention to others behavior shows how they are boring.' Senaca once said, 'Envy of other people shows how they are unhappy. Their continual attention to others behavior shows how they are boring.' Senaca once said, 'Envy of other people shows how they are unhappy. Their continual attention to others behavior shows how they are boring.' Senaca once said, 'Envy of other people shows how they are unhappy. Their continual attention to others behavior shows how they are boring.' Senaca once said, 'Envy of other people shows how they are unhappy. Their continual attention to others behavior shows how they are boring.' Senaca once said, 'Envy of other people shows how they are unhappy. Their continual attention to others behavior shows how they are boring.' Senaca once said, 'Envy of other people shows how they are unhappy. Their continual attention to others behavior shows how they are boring.' Senaca once said, 'Envy of other people shows how they are unhappy. Their continual attention to others behavior shows how they are boring.' Senaca once said, 'Envy of other people shows how they are unhappy. Their continual attention to others behavior shows how they are boring.' Senaca once said, 'Envy of other people shows how they are unhappy. Their continual attention to others behavior shows how they are boring.' Senaca once said, 'Envy of other people shows how they are unhappy. Their continual attention to others behavior shows how they are boring.' Senaca once said, 'Envy of other people shows how they are unhappy. Their continual attention to others behavior shows how they are boring.' Senaca once said, 'Envy of other people shows how they are unhappy. Their continual attention to others behavior shows how they are boring.' Senaca once said, 'Envy of other people shows how they are unhappy. Their continual attention to others behavior shows how they are boring.' Senaca once said, 'Envy of other people shows how they are unhappy. Their continual attention to others behavior shows how they are boring.' Senaca once said, 'Envy of other people shows how they are unhappy. Their continual attention to others behavior shows how they are boring.' Senaca once said, 'Envy of other people shows how they are unhappy. Their continual attention to others behavior shows how they are boring.' Senaca once said, 'Envy of other people shows how they are unhappy. Their continual attention to others behavior shows how they are boring.' Senaca once said, 'Envy of other people shows how they are unhappy. Their continual attention to others behavior shows how they are boring.' Senaca once said, 'Envy of other people shows how they are unhappy. Their continual attention to others behavior shows how they are boring.' Senaca once said, 'Envy of other people shows how they are unhappy. Their continual attention to others behavior shows how they are boring.' Senaca once said, 'Envy of other people shows how they are unhappy. Their continual attention to others behavior shows how they are boring.' Senaca once said, 'Envy of other people shows how they are unhappy. Their continual attention to others behavior shows how they are boring.' Senaca once said, 'Envy of other people shows how they are unhappy. Their continual attention to others behavior shows how they are boring.' Senaca once said, 'Envy of other people shows how they are unhappy. Their continual attention to others behavior shows how they are boring.' Senaca once said, 'Envy of other people shows how they are unhappy. Their continual attention to others behavior shows how they are boring.' Senaca once said, 'Envy of other people shows how they are unhappy. Their continual attention to others behavior shows how they are boring.' Senaca once said, 'Envy of other people shows how they are unhappy. Their continual attention to others behavior shows how they are boring.' Senaca once said, 'Envy of other people shows how they are unhappy. Their continual attention to others behavior shows how they are boring.' Senaca once said, 'Envy of other people shows how they are unhappy. Their continual attention to others behavior shows how they are boring.' Senaca once said, 'Envy of other people shows how they are unhappy. Their continual attention to others behavior shows how they are boring.' Senaca once said, 'Envy of other people shows how they are unhappy. Their continual attention to others behavior shows how they are boring.' Senaca once said, 'Envy of other people shows how they are unhappy. Their continual attention to others behavior shows how they are boring.' Senaca once said, 'Envy of other people shows how they are unhappy. Their continual attention to others behavior shows how they are boring.' Senaca once said, 'Envy of other people shows how they are unhappy. Their continual attention to others behavior shows how they are boring.' Senaca once said, 'Envy of other people shows how they are unhappy. Their continual attention to others behavior shows how they are boring.' Senaca once said, 'Envy of other people shows how they are unhappy. Their continual attention to others behavior shows how they are boring.' Senaca once said, 'Envy of other people shows how they are unhappy. Their continual attention to others behavior shows how they are boring.' Senaca once said, 'Envy of other people shows how they are unhappy. Their continual attention to others behavior shows how they are boring.' Senaca once said, 'Envy of other people shows how they are unhappy. Their continual attention to others behavior shows how they are boring.' Senaca once said, 'Envy of other people shows how they are unhappy. Their continual attention to others behavior shows how they are boring.' Senaca once said, 'Envy of other people shows how they are unhappy. Their continual attention to others behavior shows how they are boring.' Senaca once said, 'Envy of other people shows how they are unhappy. Their continual attention to others behavior shows how they are boring.' Senaca once said, 'Envy of other people shows how they are unhappy. Their continual attention to others behavior shows how they are boring.' Senaca once said, 'Envy of other people shows how they are unhappy. Their continual attention to others behavior shows how they are boring.' Senaca once said, 'Envy of other people shows how they are unhappy. Their continual attention to others behavior shows how they are boring.' Senaca once said, 'Envy of other people shows how they are unhappy. Their continual attention to others behavior shows how they are boring.' Senaca once said, 'Envy of other people shows how they are unhappy. Their continual attention to others behavior shows how they are boring.' Senaca once said, 'Envy of other people shows how they are unhappy. Their continual attention to others behavior shows how they are boring.' Senaca once said, 'Envy of other people shows how they are unhappy. Their continual attention to others behavior shows how they are boring.' Senaca once said, 'Envy of other people shows how they are unhappy. Their continual attention to others behavior shows how they are boring.' Senaca once said, 'Envy of other people shows how they are unhappy. Their continual attention to others behavior shows how they are boring.' Senaca once said, 'Envy of other people shows how they are unhappy. Their continual attention to others behavior shows how they are boring.' Senaca once said, 'Envy of other people shows how they are unhappy. Their continual attention to others behavior shows how they are boring.' Senaca once said, 'Envy of other people shows how they are unhappy. Their continual attention to others behavior shows how they are boring.' Senaca once said, 'Envy of other people shows how they are unhappy. Their continual attention to others behavior shows how they are boring.' Senaca once said, 'Envy of other people shows how they are unhappy. Their continual attention to others behavior shows how they are boring.' Senaca once said, 'Envy of other people shows how they are unhappy. Their continual attention to others behavior shows how they are boring.' Senaca once said, 'Envy of other people shows how they are unhappy. Their continual attention to others behavior shows how they are boring.' Senaca once said, 'Envy of other people shows how they are unhappy. Their continual attention to others behavior shows how they are boring.' Senaca once said, 'Envy of other people shows how they are unhappy. Their continual attention to others behavior shows how they are boring.' Senaca once said, 'Envy of other people shows how they are unhappy. Their continual attention to others behavior shows how they are boring.' Senaca once said, 'Envy of other people shows how they are unhappy. Their continual attention to others behavior shows how they are boring.' Senaca once said, 'Envy of other people shows how they are unhappy. Their continual attention to others behavior shows how they are boring.' Senaca once said, 'Envy of other people shows how they are unhappy. Their continual attention to others behavior shows how they are boring.' Senaca once said, 'Envy of other people shows how they are unhappy. Their continual attention to others behavior shows how they are boring.' Senaca once said, 'Envy of other people shows how they are unhappy. Their continual attention to others behavior shows how they are boring.' Senaca once said, 'Envy of other people shows how they are unhappy. Their continual attention to others behavior shows how they are boring.' Senaca once said, 'Envy of other people shows how they are unhappy. Their continual attention to others behavior shows how they are boring.' Senaca once said, 'Envy of other people shows how they are unhappy. Their continual attention to others behavior shows how they are boring.' Senaca once said, 'Envy of other people shows how they are unhappy. Their continual attention to others behavior shows how they are boring.' Senaca once said, 'Envy of other people shows how they are unhappy. Their continual attention to others behavior shows how they are boring.' Senaca once said, 'Envy of other people shows how they are unhappy. Their continual attention to others behavior shows how they are boring.' Senaca once said, 'Envy of other people shows how they are unhappy. Their continual attention to others behavior shows how they are boring.' Senaca once said, 'Envy of other people shows how they are unhappy. Their continual attention to others behavior shows how they are boring.' Senaca once said, 'Envy of other people shows how they are unhappy. Their continual attention to others behavior shows how they are boring.' Senaca once said, 'Envy of other people shows how they are unhappy. Their continual attention to others behavior shows how they are boring.' Senaca once said, 'Envy of other people shows how they are unhappy. Their continual attention to others behavior shows how they are boring.' Senaca once said, 'Envy of other people shows how they are unhappy. Their continual attention to others behavior shows how they are boring.' Senaca once said, 'Envy of other people shows how they are unhappy. Their continual attention to others behavior shows how they are boring.' Senaca once said, 'Envy of other people shows how they are unhappy. Their continual attention to others behavior shows how they are boring.' Senaca once said, 'Envy of other people shows how they are unhappy. Their continual attention to others behavior shows how they are boring.' Senaca once said, 'Envy of other people shows how they are unhappy. Their continual attention to others behavior shows how they are boring.' Senaca once said, 'Envy of other people shows how they are unhappy. Their continual attention to others behavior shows how they are boring.' Senaca once said, 'Envy of other people shows how they are unhappy. Their continual attention to others behavior shows how they are boring.' Senaca once said, 'Envy of other people shows how they are unhappy. Their continual attention to others behavior shows how they are boring.' Senaca once said, 'Envy of other people shows how they are unhappy. Their continual attention to others behavior shows how they are boring.' Senaca once said, 'Envy of other people shows how they are unhappy. Their continual attention to others behavior shows how they are boring.' Senaca once said, 'Envy of other people shows how they are unhappy. Their continual attention to others behavior shows how they are boring.' Senaca once said, 'Envy of other people shows how they are unhappy. Their continual attention to others behavior shows how they are boring.' Senaca once said, 'Envy of other people shows how they are unhappy. Their continual attention to others behavior shows how they are boring.' Senaca once said, 'Envy of other people shows how they are unhappy. Their continual attention to others behavior shows how they are boring.' Senaca once said, 'Envy of other people shows how they are unhappy. Their continual attention to others behavior shows how they are boring.' Senaca once said, 'Envy of other people shows how they are unhappy. Their continual attention to others behavior shows how they are boring.' Senaca once said, 'Envy of other people shows how they are unhappy. Their continual attention to others behavior shows how they are boring.' Senaca once said, 'Envy of other people shows how they are unhappy. Their continual attention to others behavior shows how they are boring.' Senaca once said, 'Envy of other people shows how they are unhappy. Their continual attention to others behavior shows how they are boring.' Senaca once said, 'Envy of other people shows how they are unhappy. Their continual attention to others behavior shows how they are boring.' Senaca once said, 'Envy of other people shows how they are unhappy. Their continual attention to others behavior shows how they are boring.' Senaca once said, 'Envy of other people shows how they are unhappy. Their continual attention to others behavior shows how they are boring.' Senaca once said, 'Envy of other people shows how they are unhappy. Their continual attention to others behavior shows how they are boring.' Senaca once said, 'Envy of other people shows how they are unhappy. Their continual attention to others behavior shows how they are boring.' Senaca once said, 'Envy of other people shows how they are unhappy. Their continual attention to others behavior shows how they are boring.' Senaca once said, 'Envy of other people shows how they are unhappy. Their continual attention to others behavior shows how they are boring.' Senaca once said, 'Envy of other people shows how they are unhappy. Their continual attention to others behavior shows how they are boring.' Senaca once said, 'Envy of other people shows how they are unhappy. Their continual attention to others behavior shows how they are boring.' Senaca once said, 'Envy of other people shows how they are unhappy. Their continual attention to others behavior shows how they are boring.' Senaca once said, 'Envy of other people shows how they are unhappy. Their continual attention to others behavior shows how they are boring.' Senaca once said, 'Envy of other people shows how they are unhappy. Their continual attention to others behavior shows how they are boring.' Senaca once said, 'Envy of other people shows how they are unhappy. Their continual attention to others behavior shows how they are boring.' Senaca once said, 'Envy of other people shows how they are unhappy. Their continual attention to others behavior shows how they are boring.' Senaca once said, 'Envy of other people shows how they are unhappy. Their continual attention to others behavior shows how they are boring.' Senaca once said, 'Envy of other people shows how they are unhappy. Their continual attention to others behavior shows how they are boring.' Senaca once said, 'Envy of other people shows how they are unhappy. Their continual attention to others behavior shows how they are boring.' Senaca once said, 'Envy of other people shows how they are unhappy. Their continual attention to others behavior shows how they are boring.' Senaca once said, 'Envy of other people shows how they are unhappy. Their continual attention to others behavior shows how they are boring.' Senaca once said, 'Envy of other people shows how they are unhappy. Their continual attention to others behavior shows how they are boring.' Senaca once said, 'Envy of other people shows how they are unhappy. Their continual attention to others behavior shows how they are boring.' Senaca once said, 'Envy of other people shows how they are unhappy. Their continual attention to others behavior shows how they are boring.' Senaca once said, 'Envy of other people shows how they are unhappy. Their continual attention to others behavior shows how they are boring.' Senaca once said, 'Envy of other people shows how they are unhappy. Their continual attention to others behavior shows how they are boring.' Senaca once said, 'Envy of other people shows how they are unhappy. Their continual attention to others behavior shows how they are boring.' Senaca once said, 'Envy of other people shows how they are unhappy. Their continual attention to others behavior shows how they are boring.' Senaca once said, 'Envy of other people shows how they are unhappy. Their continual attention to others behavior shows how they are boring.' Senaca once said, 'Envy of other people shows how they are unhappy. Their continual attention to others behavior shows how they are boring.' Senaca once said, 'Envy of other people shows how they are unhappy. Their continual attention to others behavior shows how they are boring.' Senaca once said, 'Envy of other people shows how they are unhappy. Their continual attention to others behavior shows how they are boring.' Senaca once said, 'Envy of other people shows how they are unhappy. Their continual attention to others behavior shows how they are boring.' Senaca once said, 'Envy of other people shows how they are unhappy. Their continual attention to others behavior shows how they are boring.' Senaca once said, 'Envy of other people shows how they are unhappy. Their continual attention to others behavior shows how they are boring.' Senaca once said, 'Envy of other people shows how they are unhappy. Their continual attention to others behavior shows how they are boring.' Senaca once said, 'Envy of other people shows how they are unhappy. Their continual attention to others behavior shows how they are boring.' Senaca once said, 'Envy of other people shows how they are unhappy. Their continual attention to others behavior shows how they are boring.' Senaca once said, 'Envy of other people shows how they are unhappy. Their continual attention to others behavior shows how they are boring.' Senaca once said, 'Envy of other people shows how they are unhappy. Their continual attention to others behavior shows how they are boring.' Senaca once said, 'Envy of other people shows how they are unhappy. Their continual attention to others behavior shows how they are boring.' Senaca once said, 'Envy of other people shows how they are unhappy. Their continual attention to others behavior shows how they are boring.' Senaca once said, 'Envy of other people shows how they are unhappy. Their continual attention to others behavior shows how they are boring.' Senaca once said, 'Envy of other people shows how they are unhappy. Their continual attention to others behavior shows how they are boring.' Senaca once said, 'Envy of other people shows how they are unhappy. Their continual attention to others behavior shows how they are boring.' Senaca once said, 'Envy of other people shows how they are unhappy. Their continual attention to others behavior shows how they are boring.' Senaca once said, 'Envy of other people shows how they are unhappy. Their continual attention to others behavior shows how they are boring.' Senaca once said, 'Envy of other people shows how they are unhappy. Their continual attention to others behavior shows how they are boring.' Senaca once said, 'Envy of other people shows how they are unhappy. Their continual attention to others behavior shows how they are boring.' Senaca once said, 'Envy of other people shows how they are unhappy. Their continual attention to others behavior shows how they are boring.' Senaca once said, 'Envy of other people shows how they are unhappy. Their continual attention to others behavior shows how they are boring.' Senaca once said, 'Envy of other people shows how they are unhappy. Their continual attention to others behavior shows how they are boring.' Senaca once said, 'Envy of other people shows how they are unhappy. Their continual attention to others behavior shows how they are boring.' Senaca once said, 'Envy of other people shows how they are unhappy. Their continual attention to others behavior shows how they are boring.' Senaca once said, 'Envy of other people shows how they are unhappy. Their continual attention to others behavior shows how they are boring.' Senaca once said, 'Envy of other people shows how they are unhappy. Their continual attention to others behavior shows how they are boring.' Senaca once said, 'Envy of other people shows how they are unhappy. Their continual attention to others behavior shows how they are boring.' Senaca once said, 'Envy of other people shows how they are unhappy. Their continual attention to others behavior shows how they are boring.' Senaca once said, 'Envy of other people shows how they are unhappy. Their continual attention to others behavior shows how they are boring.' Senaca once said, 'Envy of other people shows how they are unhappy. Their continual attention to others behavior shows how they are boring.' Senaca once said, 'Envy of other people shows how they are unhappy. Their continual attention to others behavior shows how they are boring.' Senaca once said, 'Envy of other people shows how they are unhappy. Their continual attention to others behavior shows how they are boring.' Senaca once said, 'Envy of other people shows how they are unhappy. Their continual attention to others behavior shows how they are boring.' Senaca once said, 'Envy of other people shows how they are unhappy. Their continual attention to others behavior shows how they are boring.' Senaca once said, 'Envy of other people shows how they are unhappy. Their continual attention to others behavior shows how they are boring.' Senaca once said, 'Envy of other people shows how they are unhappy. Their continual attention to others behavior shows how they are boring.' Senaca once said, 'Envy of other people shows how they are unhappy. Their continual attention to others behavior shows how they are boring.' Senaca once said, 'Envy of other people shows how they are unhappy. Their continual attention to others behavior shows how they are boring.' Senaca once said, 'Envy of other people shows how they are unhappy. Their continual attention to others behavior shows how they are boring.' Senaca once said, 'Envy of other people shows how they are unhappy. Their continual attention to others behavior shows how they are boring.' Senaca once said, 'Envy of other people shows how they are unhappy. Their continual attention to others behavior shows how they are boring.' Senaca once said, 'Envy of other people shows how they are unhappy. Their continual attention to others behavior shows how they are boring.' Senaca once said, 'Envy of other people shows how they are unhappy. Their continual attention to others behavior shows how they are boring.' Senaca once said, 'Envy of other people shows how they are unhappy. Their continual attention to others behavior shows how they are boring.' Senaca once said, 'Envy of other people shows how they are unhappy. Their continual attention to others behavior shows how they are boring.' Senaca once said, 'Envy of other people shows how they are unhappy. Their continual attention to others behavior shows how they are boring.' Senaca once said, 'Envy of other people shows how they are unhappy. Their continual attention to others behavior shows how they are boring.' Senaca once said, 'Envy of other people shows how they are unhappy. Their continual attention to others behavior shows how they are boring.' Senaca once said, 'Envy of other people shows how they are unhappy. Their continual attention to others behavior shows how they are boring.' Senaca once said, 'Envy of other people shows how they are unhappy. Their continual attention to others behavior shows how they are boring.' Senaca once said, 'Envy of other people shows how they are unhappy. Their continual attention to others behavior shows how they are boring.' Senaca once said, 'Envy of other people shows how they are unhappy. Their continual attention to others behavior shows how they are boring.' Senaca once said, 'Envy of other people shows how they are unhappy. Their continual attention to others behavior shows how they are boring.' Senaca once said, 'Envy of other people shows how they are unhappy. Their continual attention to others behavior shows how they are boring.' Senaca once said, 'Envy of other people shows how they are unhappy. Their continual attention to others behavior shows how they are boring.' Senaca once said, 'Envy of other people shows how they are unhappy. Their continual attention to others behavior shows how they are boring.' Senaca once said, 'Envy of other people shows how they are unhappy. Their continual attention to others behavior shows how they are boring.' Senaca once said, 'Envy of other people shows how they are unhappy. Their continual attention to others behavior shows how they are boring.' Senaca once said, 'Envy of other people shows how they are unhappy. Their continual attention to others behavior shows how they are boring.' Senaca once said, 'Envy of other people shows how they are unhappy. Their continual attention to others behavior shows how they are boring.' Senaca once said, 'Envy of other people shows how they are unhappy. Their continual attention to others behavior shows how they are boring.' Senaca once said, 'Envy of other people shows how they are unhappy. Their continual attention to others behavior shows how they are boring.' Senaca once said, 'Envy of other people shows how they are unhappy. Their continual attention to others behavior shows how they are boring.' Senaca once said, 'Envy of other people shows how they are unhappy. Their continual attention to others behavior shows how they are boring.' Senaca once said, 'Envy of other people shows how they are unhappy. Their continual attention to others behavior shows how they are boring.' Senaca once said, 'Envy of other people shows how they are unhappy. Their continual attention to others behavior shows how they are boring.' Senaca once said, 'Envy of other people shows how they are unhappy. Their continual attention to others behavior shows how they are boring.' Senaca once said, 'Envy of other people shows how they are unhappy. Their continual attention to others behavior shows how they are boring.' Senaca once said, 'Envy of other people shows how they are unhappy. Their continual attention to others behavior shows how they are boring.' Senaca once said, 'Envy of other people shows how they are unhappy. Their continual attention to others behavior shows how they are boring.' Senaca once said, 'Envy of other people shows how they are unhappy. Their continual attention to others behavior shows how they are boring.' Senaca once said, 'Envy of other people shows how they are unhappy. Their continual attention to others behavior shows how they are boring.' Senaca once said, 'Envy of other people shows how they are unhappy. Their continual attention to others behavior shows how they are boring.' Senaca once said, 'Envy of other people shows how they are unhappy. Their continual attention to others behavior shows how they are boring.' Senaca once said, 'Envy of other people shows how they are unhappy. Their continual attention to others behavior shows how they are boring.' Senaca once said, 'Envy of other people shows how they are unhappy. Their continual attention to others behavior shows how they are boring.' Senaca once said, 'Envy of other people shows how they are unhappy. Their continual attention to others behavior shows how they are boring.' Senaca once said, 'Envy of other people shows how they are unhappy. Their continual attention to others behavior shows how they are boring.' Senaca once said, 'Envy of other people shows how they are unhappy. Their continual attention to others behavior shows how they are boring.' Senaca once said, 'Envy of other people shows how they are unhappy. Their continual attention to others behavior shows how they are boring.' Senaca once said, 'Envy of other people shows how they are unhappy. Their continual attention to others behavior shows how they are boring.' Senaca once said, 'Envy of other people shows how they are unhappy. Their continual attention to others behavior shows how they are boring.' Senaca once said, 'Envy of other people shows how they are unhappy. Their continual attention to others behavior shows how they are boring.' Senaca once said, 'Envy of other people shows how they are unhappy. Their continual attention to others behavior shows how they are boring.' Senaca once said, 'Envy of other people shows how they are unhappy. Their continual attention to others behavior shows how they are boring.' Senaca once said, 'Envy of other people shows how they are unhappy. Their continual attention to others behavior shows how they are boring.' Senaca once said, 'Envy of other people shows how they are unhappy. Their continual attention to others behavior shows how they are boring.' Senaca once said, 'Envy of other people shows how they are unhappy. Their continual attention to others behavior shows how they are boring.' Senaca once said, 'Envy of other people shows how they are unhappy. Their continual attention to others behavior shows how they are boring.' Senaca once said, 'Envy of other people shows how they are unhappy. Their continual attention to others behavior shows how they are boring.' Senaca once said, 'Envy of other people shows how they are unhappy. Their continual attention to others behavior shows how they are boring.' Senaca once said, 'Envy of other people shows how they are unhappy. Their continual attention to others behavior shows how they are boring.' Senaca once said, 'Envy of other people shows how they are unhappy. Their continual attention to others behavior shows how they are boring.' Senaca once said, 'Envy of other people shows how they are unhappy. Their continual attention to others behavior shows how they are boring.' Senaca once said, 'Envy of other people shows how they are unhappy. Their continual attention to others behavior shows how they are boring.' Senaca once said, 'Envy of other people shows how they are unhappy. Their continual attention to others behavior shows how they are boring.' Senaca once said, 'Envy of other people shows how they are unhappy. Their continual attention to others behavior shows how they are boring.' Senaca once said, 'Envy of other people shows how they are unhappy. Their continual attention to others behavior shows how they are boring.' Senaca once said, 'Envy of other people shows how they are unhappy. Their continual attention to others behavior shows how they are boring.' Senaca once said, 'Envy of other people shows how they are unhappy. Their continual attention to others behavior shows how they are boring.' Senaca once said, 'Envy of other people shows how they are unhappy. Their continual attention to others behavior shows how they are boring.' Senaca once said, 'Envy of other people shows how they are unhappy. Their continual attention to others behavior shows how they are boring.' Senaca once said, 'Envy of other people shows how they are unhappy. Their continual attention to others behavior shows how they are boring.' Senaca once said, 'Envy of other people shows how they are unhappy. Their continual attention to others behavior shows how they are boring.' Senaca once said, 'Envy of other people shows how they are unhappy. Their continual attention to others behavior shows how they are boring.' Senaca once said, 'Envy of other people shows how they are unhappy. Their continual attention to others behavior shows how they are boring.' Senaca once said, 'Envy of other people shows how they are unhappy. Their continual attention to others behavior shows how they are boring.' Senaca once said, 'Envy of other people shows how they are unhappy. Their continual attention to others behavior shows how they are boring.' Senaca once said, 'Envy of other people shows how they are unhappy. Their continual attention to others behavior shows how they are boring.' Senaca once said, 'Envy of other people shows how they are unhappy. Their continual attention to others behavior shows how they are boring.' Senaca once said, 'Envy of other people shows how they are unhappy. Their continual attention to others behavior shows how they are boring.' Senaca once said, 'Envy of other people shows how they are unhappy. Their continual attention to others behavior shows how they are boring.' Senaca once said, 'Envy of other people shows how they are unhappy. Their continual attention to others behavior shows how they are boring.' Senaca once said, 'Envy of other people shows how they are unhappy. Their continual attention to others behavior shows how they are boring.' Senaca once said, 'Envy of other people shows how they are unhappy. Their continual attention to others behavior shows how they are boring.' Senaca once said, 'Envy of other people shows how they are unhappy. Their continual attention to others behavior shows how they are boring.' Senaca once said, 'Envy of other people shows how they are unhappy. Their continual attention to others behavior shows how they are boring.' Senaca once said, 'Envy of other people shows how they are unhappy. Their continual attention to others behavior shows how they are boring.' Senaca once said, 'Envy of other people shows how they are unhappy. Their continual attention to others behavior shows how they are boring.' Senaca once said, 'Envy of other people shows how they are unhappy. Their continual attention to others behavior shows how they are boring.' Senaca once said, 'Envy of other people shows how they are unhappy. Their continual attention to others behavior shows how they are boring.' Senaca once said, 'Envy of other people shows how they are unhappy. Their continual attention to others behavior shows how they are boring.' Senaca once said, 'Envy of other people shows how they are unhappy. Their continual attention to others behavior shows how they are boring.' Senaca once said, 'Envy of other people shows how they are unhappy. Their continual attention to others behavior shows how they are boring.' Senaca once said, 'Envy of other people shows how they are unhappy. Their continual attention to others behavior shows how they are boring.' Senaca once said, 'Envy of other people shows how they are unhappy. Their continual attention to others behavior shows how they are boring.' Senaca once said, 'Envy of other people shows how they are unhappy. Their continual attention to others behavior shows how they are boring.' Senaca once said, 'Envy of other people shows how they are unhappy. Their continual attention to others behavior shows how they are boring.' Senaca once said, 'Envy of other people shows how they are unhappy. Their continual attention to others behavior shows how they are boring.' Senaca once said, 'Envy of other people shows how they are unhappy. Their continual attention to others behavior shows how they are boring.' Senaca once said, 'Envy of other people shows how they are unhappy. Their continual attention to others behavior shows how they are boring.' Senaca once said, 'Envy of other people shows how they are unhappy. Their continual attention to others behavior shows how they are boring.' Senaca once said, 'Envy of other people shows how they are unhappy. Their continual attention to others behavior shows how they are boring.' Senaca once said, 'Envy of other people shows how they are unhappy. Their continual attention to others behavior shows how they are boring.' Senaca once said, 'Envy of other people shows how they are unhappy. Their continual attention to others behavior shows how they are boring.' Senaca once said, 'Envy of other people shows how they are unhappy. Their continual attention to others behavior shows how they are boring.' Senaca once said, 'Envy of other people shows how they are unhappy. Their continual attention to others behavior shows how they are boring.' Senaca once said, 'Envy of other people shows how they are unhappy. Their continual attention to others behavior shows how they are boring.' Senaca once said, 'Envy of other people shows how they are unhappy. Their continual attention to others behavior shows how they are boring.' Senaca once said, 'Envy of other people shows how they are unhappy. Their continual attention to others behavior shows how they are boring.' Senaca once said, 'Envy of other people shows how they are unhappy. Their continual attention to others behavior shows how they are boring.' Senaca once said, 'Envy of other people shows how they are unhappy. Their continual attention to others behavior shows how they are boring.' Senaca once said, 'Envy of other people shows how they are unhappy. Their continual attention to others behavior shows how they are boring.' Senaca once said, 'Envy of other people shows how they are unhappy. Their continual attention to others behavior shows how they are boring.' Senaca once said, 'Envy of other people shows how they are unhappy. Their continual attention to others behavior shows how they are boring.' Senaca once said, 'Envy of other people shows how they are unhappy. Their continual attention to others behavior shows how they are boring.' Senaca once said, 'Envy of other people shows how they are unhappy. Their continual attention to others behavior shows how they are boring.' Senaca once said, 'Envy of other people shows how they are unhappy. Their continual attention to others behavior shows how they are boring.' Senaca once said, 'Envy of other people shows how they are unhappy. Their continual attention to others behavior shows how they are boring.' Senaca once said, 'Envy of other people shows how they are unhappy. Their continual attention to others behavior shows how they are boring.' Senaca once said, 'Envy of other people shows how they are unhappy. Their continual attention to others behavior shows how they are boring.' Senaca once said, 'Envy of other people shows how they are unhappy. Their continual attention to others behavior shows how they are boring.' Senaca once said, 'Envy of other people shows how they are unhappy. Their continual attention to others behavior shows how they are boring.' Senaca once said, 'Envy of other people shows how they are unhappy. Their continual attention to others behavior shows how they are boring.' Senaca once said, 'Envy of other people shows how they are unhappy. Their continual attention to others behavior shows how they are boring.' Senaca once said, 'Envy of other people shows how they are unhappy. Their continual attention to others behavior shows how they are boring.' Senaca once said, 'Envy of other people shows how they are unhappy. Their continual attention to others behavior shows how they are boring.' Senaca once said, 'Envy of other people shows how they are unhappy. Their continual attention to others behavior shows how they are boring.' Senaca once said, 'Envy of other people shows how they are unhappy. Their continual attention to others behavior shows how they are boring.' Senaca once said, 'Envy of other people shows how they are unhappy. Their continual attention to others behavior shows how they are boring.' Senaca once said, 'Envy of other people shows how they are unhappy. Their continual attention to others behavior shows how they are boring.' Senaca once said, 'Envy of other people shows how they are unhappy. Their continual attention to others behavior shows how they are boring.' Senaca once said, 'Envy of other people shows how they are unhappy. Their continual attention to others behavior shows how they are boring.' Senaca once said, 'Envy of other people shows how they are unhappy. Their continual attention to others behavior shows how they are boring.' Senaca once said, 'Envy of other people shows how they are unhappy. Their continual attention to others behavior shows how they are boring.' Senaca once said, 'Envy of other people shows how they are unhappy. Their continual attention to others behavior shows how they are boring.' Senaca once said, 'Envy of other people shows how they are unhappy. Their continual attention to others behavior shows how they are boring.' Senaca once said, 'Envy of other people shows how they are unhappy. Their continual attention to others behavior shows how they are boring.' Senaca once said, 'Envy of other people shows how they are unhappy. Their continual attention to others behavior shows how they are boring.' Senaca once said, 'Envy of other people shows how they are unhappy. Their continual attention to others behavior shows how they are boring.' Senaca once said, 'Envy of other people shows how they are unhappy. Their continual attention to others behavior shows how they are boring.' Senaca once said, 'Envy of other people shows how they are unhappy. Their continual attention to others behavior shows how they are boring.' Senaca once said, 'Envy of other people shows how they are unhappy. Their continual attention to others behavior shows how they are boring.' Senaca once said, 'Envy of other people shows how they are unhappy. Their continual attention to others behavior shows how they are boring.' Senaca once said, 'Envy of other people shows how they are unhappy. Their continual attention to others behavior shows how they are boring.' Senaca once said, 'Envy of other people shows how they are unhappy. Their continual attention to others behavior shows how they are boring.' Senaca once said, 'Envy of other people shows how they are unhappy. Their continual attention to others behavior shows how they are boring.' Senaca once said, 'Envy of other people shows how they are unhappy. Their continual attention to others behavior shows how they are boring.' Senaca once said, 'Envy of other people shows how they are unhappy. Their continual attention to others behavior shows how they are boring.' Senaca once said, 'Envy of other people shows how they are unhappy. Their continual attention to others behavior shows how they are boring.' Senaca once said, 'Envy of other people shows how they are unhappy. Their continual attention to others behavior shows how they are boring.' Senaca once said, 'Envy of other people shows how they are unhappy. Their continual attention to others behavior shows how they are boring.' Senaca once said, 'Envy of other people shows how they are unhappy. Their continual attention to others behavior shows how they are boring.' Senaca once said, 'Envy of other people shows how they are unhappy. Their continual attention to others behavior shows how they are boring.' Senaca once said, 'Envy of other people shows how they are unhappy. Their continual attention to others behavior shows how they are boring.' Senaca once said, 'Envy of other people shows how they are unhappy. Their continual attention to others behavior shows how they are boring.' Senaca once said, 'Envy of other people shows how they are unhappy. Their continual attention to others behavior shows how they are boring.' Senaca once said, 'Envy of other people shows how they are unhappy. Their continual attention to others behavior shows how they are boring.' Senaca once said, 'Envy of other people shows how they are unhappy. Their continual attention to others behavior shows how they are boring.' Senaca once said, 'Envy of other people shows how they are unhappy. Their continual attention to others behavior shows how they are boring.' Senaca once said, 'Envy of other people shows how they are unhappy. Their continual attention to others behavior shows how they are boring.' Senaca once said, 'Envy of other people shows how they are unhappy. Their continual attention to others behavior shows how they are boring.' Senaca once said, 'Envy of other people shows how they are unhappy. Their continual attention to others behavior shows how they are boring.' Senaca once said, 'Envy of other people shows how they are unhappy. Their continual attention to others behavior shows how they are boring.' Senaca once said, 'Envy of other people shows how they are unhappy. Their continual attention to others behavior shows how they are boring.' Senaca once said, 'Envy of other people shows how they are unhappy. Their continual attention to others behavior shows how they are boring.' Senaca once said, 'Envy of other people shows how they are unhappy. Their continual attention to others behavior shows how they are boring.' Senaca once said, 'Envy of other people shows how they are unhappy. Their continual attention to others behavior shows how they are boring.' Senaca once said, 'Envy of other people shows how they are unhappy. Their continual attention to others behavior shows how they are boring.' Senaca once said, 'Envy of other people shows how they are unhappy. Their continual attention to others behavior shows how they are boring.' Senaca once said, 'Envy of other people shows how they are unhappy. Their continual attention to others behavior shows how they are boring.' Senaca once said, 'Envy of other people shows how they are unhappy. Their continual attention to others behavior shows how they are boring.' Senaca once said, 'Envy of other people shows how they are unhappy. Their continual attention to others behavior shows how they are boring.' Senaca once said, 'Envy of other people shows how they are unhappy. Their continual attention to others behavior shows how they are boring.' Senaca once said, 'Envy of other people shows how they are unhappy. Their continual attention to others behavior shows how they are boring.' Senaca once said, 'Envy of other people shows how they are unhappy. Their continual attention to others behavior shows how they are boring.' Senaca once said, 'Envy of other people shows how they are unhappy. Their continual attention to others behavior shows how they are boring.' Senaca once said, 'Envy of other people shows how they are unhappy. Their continual attention to others behavior shows how they are boring.' Senaca once said, 'Envy of other people shows how they are unhappy. Their continual attention to others behavior shows how they are boring.' Senaca once said, 'Envy of other people shows how they are unhappy. Their continual attention to others behavior shows how they are boring.' Senaca once said, 'Envy of other people shows how they are unhappy. Their continual attention to others behavior shows how they are boring.' Senaca once said, 'Envy of other people shows how they are unhappy. Their continual attention to others behavior shows how they are boring.' Senaca once said, 'Envy of other people shows how they are unhappy. Their continual attention to others behavior shows how they are boring.' Senaca once said, 'Envy of other people shows how they are unhappy. Their continual attention to others behavior shows how they are boring.' Senaca once said, 'Envy of other people shows how they are unhappy. Their continual attention to others behavior shows how they are boring.' Senaca once said, 'Envy of other people shows how they are unhappy. Their continual attention to others behavior shows how they are boring.' Senaca once said, 'Envy of other people shows how they are unhappy. Their continual attention to others behavior shows how they are boring.' Senaca once said, 'Envy of other people shows how they are unhappy. Their continual attention to others behavior shows how they are boring.' Senaca once said, 'Envy of other people shows how they are unhappy. Their continual attention to others behavior shows how they are boring.' Senaca once said, 'Envy of other people shows how they are unhappy. Their continual attention to others behavior shows how they are boring.' Senaca once said, 'Envy of other people shows how they are unhappy. Their continual attention to others behavior shows how they are boring.' Senaca once said, 'Envy of other people shows how they are unhappy. Their continual attention to others behavior shows how they are boring.' Senaca once said, 'Envy of other people shows how they are unhappy. Their continual attention to others behavior shows how they are boring.' Senaca once said, 'Envy of other people shows how they are unhappy. Their continual attention to others behavior shows how they are boring.' Senaca once said, 'Envy of other people shows how they are unhappy. Their continual attention to others behavior shows how they are boring.' Senaca once said, 'Envy of other people shows how they are unhappy. Their continual attention to others behavior shows how they are boring.' Senaca once said, 'Envy of other people shows how they are unhappy. Their continual attention to others behavior shows how they are boring.' Senaca once said, 'Envy of other people shows how they are unhappy. Their continual attention to others behavior shows how they are boring.' Senaca once said, 'Envy of other people shows how they are unhappy. Their continual attention to others behavior shows how they are boring.' Senaca once said, 'Envy of other people shows how they are unhappy. Their continual attention to others behavior shows how they are boring.' Senaca once said, 'Envy of other people shows how they are unhappy. Their continual attention to others behavior shows how they are boring.' Senaca once said, 'Envy of other people shows how they are unhappy. Their continual attention to others behavior shows how they are boring.' Senaca once said, 'Envy of other people shows how they are unhappy. Their continual attention to others behavior shows how they are boring.' Senaca once said, 'Envy of other people shows how they are unhappy. Their continual attention to others behavior shows how they are boring.' Senaca once said, 'Envy of other people shows how they are unhappy. Their continual attention to others behavior shows how they are boring.' Senaca once said, 'Envy of other people shows how they are unhappy. Their continual attention to others behavior shows how they are boring.' Senaca once said, 'Envy of other people shows how they are unhappy. Their continual attention to others behavior shows how they are boring.' Senaca once said, 'Envy of other people shows how they are unhappy. Their continual attention to others behavior shows how they are boring.' Senaca once said, 'Envy of other people shows how they are unhappy. Their continual attention to others behavior shows how they are boring.' Senaca once said, 'Envy of other people shows how they are unhappy. Their continual attention to others behavior shows how they are boring.' Senaca once said, 'Envy of other people shows how they are unhappy. Their continual attention to others behavior shows how they are boring.' Senaca once said, 'Envy of other people shows how they are unhappy. Their continual attention to others behavior shows how they are boring.' Senaca once said, 'Envy of other people shows how they are unhappy. Their continual attention to others behavior shows how they are boring.' Senaca once said, 'Envy of other people shows how they are unhappy. Their continual attention to others behavior shows how they are boring.' Senaca once said, 'Envy of other people shows how they are unhappy. Their continual attention to others behavior shows how they are boring.' Senaca once said, 'Envy of other people shows how they are unhappy. Their continual attention to others behavior shows how they are boring.' Senaca once said, 'Envy of other people shows how they are unhappy. Their continual attention to others behavior shows how they are boring.' Senaca once said, 'Envy of other people shows how they are unhappy. Their continual attention to others behavior shows how they are boring.' Senaca once said, 'Envy of other people shows how they are unhappy. Their continual attention to others behavior shows how they are boring.' Senaca once said, 'Envy of other people shows how they are unhappy. Their continual attention to others behavior shows how they are boring.' Senaca once said, 'Envy of other people shows how they are unhappy. Their continual attention to others behavior shows how they are boring.' Senaca once said, 'Envy of other people shows how they are unhappy. Their continual attention to others behavior shows how they are boring.' Senaca once said, 'Envy of other people shows how they are unhappy. Their continual attention to others behavior shows how they are boring.' Senaca once said, 'Envy of other people shows how they are unhappy. Their continual attention to others behavior shows how they are boring.' Senaca once said, 'Envy of other people shows how they are unhappy. Their continual attention to others behavior shows how they are boring.' Senaca once said, 'Envy of other people shows how they are unhappy. Their continual attention to others behavior shows how they are boring.' Senaca once said, 'Envy of other people shows how they are unhappy. Their continual attention to others behavior shows how they are boring.' Senaca once said, 'Envy of other people shows how they are unhappy. Their continual attention to others behavior shows how they are boring.' Senaca once said, 'Envy of other people shows how they are unhappy. Their continual attention to others behavior shows how they are boring.' Senaca once said, 'Envy of other people shows how they are unhappy. Their continual attention to others behavior shows how they are boring.' Senaca once said, 'Envy of other people shows how they are unhappy. Their continual attention to others behavior shows how they are boring.' Senaca once said, 'Envy of other people shows how they are unhappy. Their continual attention to others behavior shows how they are boring.' Senaca once said, 'Envy of other people shows how they are unhappy. Their continual attention to others behavior shows how they are boring.' Senaca once said, 'Envy of other people shows how they are unhappy. Their continual attention to others behavior shows how they are boring.' Senaca once said, 'Envy of other people shows how they are unhappy. Their continual attention to others behavior shows how they are boring.' Senaca once said, 'Envy of other people shows how they are unhappy. Their continual attention to others behavior shows how they are boring.' Senaca once said, 'Envy of other people shows how they are unhappy. Their continual attention to others behavior shows how they are boring.' Senaca once said, 'Envy of other people shows how they are unhappy. Their continual attention to others behavior shows how they are boring.' Senaca once said, 'Envy of other people shows how they are unhappy. Their continual attention to others behavior shows how they are boring.' Senaca once said, 'Envy of other people shows how they are unhappy. Their continual attention to others behavior shows how they are boring.' Senaca once said, 'Envy of other people shows how they are unhappy. Their continual attention to others behavior shows how they are boring.' Senaca once said, 'Envy of other people shows how they are unhappy. Their continual attention to others behavior shows how they are boring.' Senaca once said, 'Envy of other people shows how they are unhappy. Their continual attention to others behavior shows how they are boring.' Senaca once said, 'Envy of other people shows how they are unhappy. Their continual attention to others behavior shows how they are boring.' Senaca once said, 'Envy of other people shows how they are unhappy. Their continual attention to others behavior shows how they are boring.' Senaca once said, 'Envy of other people shows how they are unhappy. Their continual attention to others behavior shows how they are boring.' Senaca once said, 'Envy of other people shows how they are unhappy. Their continual attention to others behavior shows how they are boring.' Senaca once said, 'Envy of other people shows how they are unhappy. Their continual attention to others behavior shows how they are boring.' Senaca once said, 'Envy of other people shows how they are unhappy. Their continual attention to others behavior shows how they are boring.' Senaca once said, 'Envy of other people shows how they are unhappy. Their continual attention to others behavior shows how they are boring.' Senaca once said, 'Envy of other people shows how they are unhappy. Their continual attention to others behavior shows how they are boring.' Senaca once said, 'Envy of other people shows how they are unhappy. Their continual attention to others behavior shows how they are boring.' Senaca once said, 'Envy of other people shows how they are unhappy. Their continual attention to others behavior shows how they are boring.' Senaca once said, 'Envy of other people shows how they are unhappy. Their continual attention to others behavior shows how they are boring.' Senaca once said, 'Envy of other people shows how they are unhappy. Their continual attention to others behavior shows how they are boring.' Senaca once said, 'Envy of other people shows how they are unhappy. Their continual attention to others behavior shows how they are boring.' Senaca once said, 'Envy of other people shows how they are unhappy. Their continual attention to others behavior shows how they are boring.' Senaca once said, 'Envy of other people shows how they are unhappy. Their continual attention to others behavior shows how they are boring.' Senaca once said, 'Envy of other people shows how they are unhappy. Their continual attention to others behavior shows how they are boring.' Senaca once said, 'Envy of other people shows how they are unhappy. Their continual attention to others behavior shows how they are boring.' Senaca once said, 'Envy of other people shows how they are unhappy. Their continual attention to others behavior shows how they are boring.' Senaca once said, 'Envy of other people shows how they are unhappy. Their continual attention to others behavior shows how they are boring.' Senaca once said, 'Envy of other people shows how they are unhappy. Their continual attention to others behavior shows how they are boring.' Senaca once said, 'Envy of other people shows how they are unhappy. Their continual attention to others behavior shows how they are boring.' Senaca once said, 'Envy of other people shows how they are unhappy. Their continual attention to others behavior shows how they are boring.' Senaca once said, 'Envy of other people shows how they are unhappy. Their continual attention to others behavior shows how they are boring.' Senaca once said, 'Envy of other people shows how they are unhappy. Their continual attention to others behavior shows how they are boring.' Senaca once said, 'Envy of other people shows how they are unhappy. Their continual attention to others behavior shows how they are boring.' Senaca once said, 'Envy of other people shows how they are unhappy. Their continual attention to others behavior shows how they are boring.' Senaca once said, 'Envy of other people shows how they are unhappy. Their continual attention to others behavior shows how they are boring.' Senaca once said, 'Envy of other people shows how they are unhappy. Their continual attention to others behavior shows how they are boring.' Senaca once said, 'Envy of other people shows how they are unhappy. Their continual attention to others behavior shows how they are boring.' Senaca once said, 'Envy of other people shows how they are unhappy. Their continual attention to others behavior shows how they are boring.' Senaca once said, 'Envy of other people shows how they are unhappy. Their continual attention to others behavior shows how they are boring.' Senaca once said, 'Envy of other people shows how they are unhappy. Their continual attention to others behavior shows how they are boring.' Senaca once said, 'Envy of other people shows how they are unhappy. Their continual attention to others behavior shows how they are boring.' Senaca once said, 'Envy of other people shows how they are unhappy. Their continual attention to others behavior shows how they are boring.' Senaca once said, 'Envy of other people shows how they are unhappy. Their continual attention to others behavior shows how they are boring.' Senaca once said, 'Envy of other people shows how they are unhappy. Their continual attention to others behavior shows how they are boring.' Senaca once said, 'Envy of other people shows how they are unhappy. Their continual attention to others behavior shows how they are boring.' Senaca once said, 'Envy of other people shows how they are unhappy. Their continual attention to others behavior shows how they are boring.' Senaca once said, 'Envy of other people shows how they are unhappy. Their continual attention to others behavior shows how they are boring.' Senaca once said, 'Envy of other people shows how they are unhappy. Their continual attention to others behavior shows how they are boring.' Senaca once said, 'Envy of other people shows how they are unhappy. Their continual attention to others behavior shows how they are boring.' Senaca once said, 'Envy of other people shows how they are unhappy. Their continual attention to others behavior shows how they are boring.' Senaca once said, 'Envy of other people shows how they are unhappy. Their continual attention to others behavior shows how they are boring.' Senaca once said, 'Envy of other people shows how they are unhappy. Their continual attention to others behavior shows how they are boring.' Senaca once said, 'Envy of other people shows how they are unhappy. Their continual attention to others behavior shows how they are boring.' Senaca once said, 'Envy of other people shows how they are unhappy. Their continual attention to others behavior shows how they are boring.' Senaca once said, 'Envy of other people shows how they are unhappy. Their continual attention to others behavior shows how they are boring.' Senaca once said, 'Envy of other people shows how they are unhappy. Their continual attention to others behavior shows how they are boring.' Senaca once said, 'Envy of other people shows how they are unhappy. Their continual attention to others behavior shows how they are boring.' Senaca once said, 'Envy of other people shows how they are unhappy. Their continual attention to others behavior shows how they are boring.' Senaca once said, 'Envy of other people shows how they are unhappy. Their continual attention to others behavior shows how they are boring.' Senaca once said, 'Envy of other people shows how they are unhappy. Their continual attention to others behavior shows how they are boring.' Senaca once said, 'Envy of other people shows how they are unhappy. Their continual attention to others behavior shows how they are boring.' Senaca once said, 'Envy of other people shows how they are unhappy. Their continual attention to others behavior shows how they are boring.' Senaca once said, 'Envy of other people shows how they are unhappy. Their continual attention to others behavior shows how they are boring.' Senaca once said, 'Envy of other people shows how they are unhappy. Their continual attention to others behavior shows how they are boring.' Senaca once said, 'Envy of other people shows how they are unhappy. Their continual attention to others behavior shows how they are boring.' Senaca once said, 'Envy of other people shows how they are unhappy. Their continual attention to others behavior shows how they are boring.' Senaca once said, 'Envy of other people shows how they are unhappy. Their continual attention to others behavior shows how they are boring.' Senaca once said, 'Envy of other people shows how they are unhappy. Their continual attention to others behavior shows how they are boring.' Senaca once said, 'Envy of other people shows how they are unhappy. Their continual attention to others behavior shows how they are boring.' Senaca once said, 'Envy of other people shows how they are unhappy. Their continual attention to others behavior shows how they are boring.' Senaca once said, 'Envy of other people shows how they are unhappy. Their continual attention to others behavior shows how they are boring.' Senaca once said, 'Envy of other people shows how they are unhappy. Their continual attention to others behavior shows how they are boring.' Senaca once said, 'Envy of other people shows how they are unhappy. Their continual attention to others behavior shows how they are boring.' Senaca once said, 'Envy of other people shows how they are unhappy. Their continual attention to others behavior shows how they are boring.' Senaca once said, 'Envy of other people shows how they are unhappy. Their continual attention to others behavior shows how they are boring.' Senaca once said, 'Envy of other people shows how they are unhappy. Their continual attention to others behavior shows how they are boring.' Senaca once said, 'Envy of other people shows how they are unhappy. Their continual attention to others behavior shows how they are boring.' Senaca once said, 'Envy of other people shows how they are unhappy. Their continual attention to others behavior shows how they are boring.' Senaca once said, 'Envy of other people shows how they are unhappy. Their continual attention to others behavior shows how they are boring.' Senaca once said, 'Envy of other people shows how they are unhappy. Their continual attention to others behavior shows how they are boring.' Senaca once said, 'Envy of other people shows how they are unhappy. Their continual attention to others behavior shows how they are boring.' Senaca once said, 'Envy of other people shows how they are unhappy. Their continual attention to others behavior shows how they are boring.' Senaca once said, 'Envy of other people shows how they are unhappy. Their continual attention to others behavior shows how they are boring.' Senaca once said, 'Envy of other people shows how they are unhappy. Their continual attention to others behavior shows how they are boring.' Senaca once said, 'Envy of other people shows how they are unhappy. Their continual attention to others behavior shows how they are boring.' Senaca once said, 'Envy of other people shows how they are unhappy. Their continual attention to others behavior shows how they are boring.' Senaca once said, 'Envy of other people shows how they are unhappy. Their continual attention to others behavior shows how they are boring.' Senaca once said, 'Envy of other people shows how they are unhappy. Their continual attention to others behavior shows how they are boring.' Senaca once said, 'Envy of other people shows how they are unhappy. Their continual attention to others behavior shows how they are boring.' Senaca once said, 'Envy of other people shows how they are unhappy. Their continual attention to others behavior shows how they are boring.' Senaca once said, 'Envy of other people shows how they are unhappy. Their continual attention to others behavior shows how they are boring.' Senaca once said, 'Envy of other people shows how they are unhappy. Their continual attention to others behavior shows how they are boring.' Senaca once said, 'Envy of other people shows how they are unhappy. Their continual attention to others behavior shows how they are boring.' Senaca once said, 'Envy of other people shows how they are unhappy. Their continual attention to others behavior shows how they are boring.' Senaca once said, 'Envy of other people shows how they are unhappy. Their continual attention to others behavior shows how they are boring.' Senaca once said, 'Envy of other people shows how they are unhappy. Their continual attention to others behavior shows how they are boring.' Senaca once said, 'Envy of other people shows how they are unhappy. Their continual attention to others behavior shows how they are boring.' Senaca once said, 'Envy of other people shows how they are unhappy. Their continual attention to others behavior shows how they are boring.' Senaca once said, 'Envy of other people shows how they are unhappy. Their continual attention to others behavior shows how they are boring.' Senaca once said, 'Envy of other people shows how they are unhappy. Their continual attention to others behavior shows how they are boring.' Senaca once said, 'Envy of other people shows how they are unhappy. Their continual attention to others behavior shows how they are boring.' Senaca once said, 'Envy of other people shows how they are unhappy. Their continual attention to others behavior shows how they are boring.' Senaca once said, 'Envy of other people shows how they are unhappy. Their continual attention to others behavior shows how they are boring.' Senaca once said, 'Envy of other people shows how they are unhappy. Their continual attention to others behavior shows how they are boring.' Senaca once said, 'Envy of other people shows how they are unhappy. Their continual attention to others behavior shows how they are boring.' Senaca once said, 'Envy of other people shows how they are unhappy. Their continual attention to others behavior shows how they are boring.' Senaca once said, 'Envy of other people shows how they are unhappy. Their continual attention to others behavior shows how they are boring.' Senaca once said, 'Envy of other people shows how they are unhappy. Their continual attention to others behavior shows how they are boring.' Senaca once said, 'Envy of other people shows how they are unhappy. Their continual attention to others behavior shows how they are boring.' Senaca once said, 'Envy of other people shows how they are unhappy. Their continual attention to others behavior shows how they are boring.' Senaca once said, 'Envy of other people shows how they are unhappy. Their continual attention to others behavior shows how they are boring.' Senaca once said, 'Envy of other people shows how they are unhappy. Their continual attention to others behavior shows how they are boring.' Senaca once said, 'Envy of other people shows how they are unhappy. Their continual attention to others behavior shows how they are boring.' Senaca once said, 'Envy of other people shows how they are unhappy. Their continual attention to others behavior shows how they are boring.' Senaca once said, 'Envy of other people shows how they are unhappy. Their continual attention to others behavior shows how they are boring.' Senaca once said, 'Envy of other people shows how they are unhappy. Their continual attention to others behavior shows how they are boring.' Senaca once said, 'Envy of other people shows how they are unhappy. Their continual attention to others behavior shows how they are boring.' Senaca once said, 'Envy of other people shows how they are unhappy. Their continual attention to others behavior shows how they are boring.' Senaca once said, 'Envy of other people shows how they are unhappy. Their continual attention to others behavior shows how they are boring.' Senaca once said, 'Envy of other people shows how they are unhappy. Their continual attention to others behavior shows how they are boring.' Senaca once said, 'Envy of other people shows how they are unhappy. Their continual attention to others behavior shows how they are boring.' Senaca once said, 'Envy of other people shows how they are unhappy. Their continual attention to others behavior shows how they are boring.' Senaca once said, 'Envy of other people shows how they are unhappy. Their continual attention to others behavior shows how they are boring.' Senaca once said, 'Envy of other people shows how they are unhappy. Their continual attention to others behavior shows how they are boring.' Senaca once said, 'Envy of other people shows how they are unhappy. Their continual attention to others behavior shows how they are boring.' Senaca once said, 'Envy of other people shows how they are unhappy. Their continual attention to others behavior shows how they are boring.' Senaca once said, 'Envy of other people shows how they are unhappy. Their continual attention to others behavior shows how they are boring.' Senaca once said, 'Envy of other people shows how they are unhappy. Their continual attention to others behavior shows how they are boring.' Senaca once said, 'Envy of other people shows how they are unhappy. Their continual attention to others behavior shows how they are boring.' Senaca once said, 'Envy of other people shows how they are unhappy. Their continual attention to others behavior shows how they are boring.' Senaca once said, 'Envy of other people shows how they are unhappy. Their continual attention to others behavior shows how they are boring.' Senaca once said, 'Envy of other people shows how they are unhappy. Their continual attention to others behavior shows how they are boring.' Senaca once said, 'Envy of other people shows how they are unhappy. Their continual attention to others behavior shows how they are boring.' Senaca once said, 'Envy of other people shows how they are unhappy. Their continual attention to others behavior shows how they are boring.' Senaca once said, 'Envy of other people shows how they are unhappy. Their continual attention to others behavior shows how they are boring.' Senaca once said, 'Envy of other people shows how they are unhappy. Their continual attention to others behavior shows how they are boring.' Senaca once said, 'Envy of other people shows how they are unhappy. Their continual attention to others behavior shows how they are boring.' Senaca once said, 'Envy of other people shows how they are unhappy. Their continual attention to others behavior shows how they are boring.' Senaca once said, 'Envy of other people shows how they are unhappy. Their continual attention to others behavior shows how they are boring.' Senaca once said, 'Envy of other people shows how they are unhappy. Their continual attention to others behavior shows how they are boring.' Senaca once said, 'Envy of other people shows how they are unhappy. Their continual attention to others behavior shows how they are boring.' Senaca once said, 'Envy of other people shows how they are unhappy. Their continual attention to others behavior shows how they are boring.' Senaca once said, 'Envy of other people shows how they are unhappy. Their continual attention to others behavior shows how they are boring.' Senaca once said, 'Envy of other people shows how they are unhappy. Their continual attention to others behavior shows how they are boring.' Senaca once said, 'Envy of other people shows how they are unhappy. Their continual attention to others behavior shows how they are boring.' Senaca once said, 'Envy of other people shows how they are unhappy. Their continual attention to others behavior shows how they are boring.' Senaca once said, 'Envy of other people shows how they are unhappy. Their continual attention to others behavior shows how they are boring.' Senaca once said, 'Envy of other people shows how they are unhappy. Their continual attention to others behavior shows how they are boring.' Senaca once said, 'Envy of other people shows how they are unhappy. Their continual attention to others behavior shows how they are boring.' Senaca once said, 'Envy of other people shows how they are unhappy. Their continual attention to others behavior shows how they are boring.' Senaca once said, 'Envy of other people shows how they are unhappy. Their continual attention to others behavior shows how they are boring.' Senaca once said, 'Envy of other people shows how they are unhappy. Their continual attention to others behavior shows how they are boring.' Senaca once said, 'Envy of other people shows how they are unhappy. Their continual attention to others behavior shows how they are boring.' Senaca once said, 'Envy of other people shows how they are unhappy. Their continual attention to others behavior shows how they are boring.' Senaca once said, 'Envy of other people shows how they are unhappy. Their continual attention to others behavior shows how they are boring.' Senaca once said, 'Envy of other people shows how they are unhappy. Their continual attention to others behavior shows how they are boring.' Senaca once said, 'Envy of other people shows how they are unhappy. Their continual attention to others behavior shows how they are boring.' Senaca once said, 'Envy of other people shows how they are unhappy. Their continual attention to others behavior shows how they are boring.' Senaca once said, 'Envy of other people shows how they are unhappy. Their continual attention to others behavior shows how they are boring.' Senaca once said, 'Envy of other people shows how they are unhappy. Their continual attention to others behavior shows how they are boring.' Senaca once said, 'Envy of other people shows how they are unhappy. Their continual attention to others behavior shows how they are boring.' Senaca once said, 'Envy of other people shows how they are unhappy. Their continual attention to others behavior shows how they are boring.' Senaca once said, 'Envy of other people shows how they are unhappy. Their continual attention to others behavior shows how they are boring.' Senaca once said, 'Envy of other people shows how they are unhappy. Their continual attention to others behavior shows how they are boring.' Senaca once said, 'Envy of other people shows how they are unhappy. Their continual attention to others behavior shows how they are boring.' Senaca once said, 'Envy of other people shows how they are unhappy. Their continual attention to others behavior shows how they are boring.' Senaca once said, 'Envy of other people shows how they are unhappy. Their continual attention to others behavior shows how they are boring.' Senaca once said, 'Envy of other people shows how they are unhappy. Their continual attention to others behavior shows how they are boring.' Senaca once said, 'Envy of other people shows how they are unhappy. Their continual attention to others behavior shows how they are boring.' Senaca once said, 'Envy of other people shows how they are unhappy. Their continual attention to others behavior shows how they are boring.' Senaca once said, 'Envy of other people shows how they are unhappy. Their continual attention to others behavior shows how they are boring.' Senaca once said, 'Envy of other people shows how they are unhappy. Their continual attention to others behavior shows how they are boring.' Senaca once said, 'Envy of other people shows how they are unhappy. Their continual attention to others behavior shows how they are boring.' Senaca once said, 'Envy of other people shows how they are unhappy. Their continual attention to others behavior shows how they are boring.' Senaca once said, 'Envy of other people shows how they are unhappy. Their continual attention to others behavior shows how they are boring.' Senaca once said, 'Envy of other people shows how they are unhappy. Their continual attention to others behavior shows how they are boring.' Senaca once said, 'Envy of other people shows how they are unhappy. Their continual attention to others behavior shows how they are boring.' Senaca once said, 'Envy of other people shows how they are unhappy. Their continual attention to others behavior shows how they are boring.' Senaca once said, 'Envy of other people shows how they are unhappy. Their continual attention to others behavior shows how they are boring.' Senaca once said, 'Envy of other people shows how they are unhappy. Their continual attention to others behavior shows how they are boring.' Senaca once said, 'Envy of other people shows how they are unhappy. Their continual attention to others behavior shows how they are boring.' Senaca once said, 'Envy of other people shows how they are unhappy. Their continual attention to others behavior shows how they are boring.' Senaca once said, 'Envy of other people shows how they are unhappy. Their continual attention to others behavior shows how they are boring.' Senaca once said, 'Envy of other people shows how they are unhappy. Their continual attention to others behavior shows how they are boring.' Senaca once said, 'Envy of other people shows how they are unhappy. Their continual attention to others behavior shows how they are boring.' Senaca once said, 'Envy of other people shows how they are unhappy. Their continual attention to others behavior shows how they are boring.' Senaca once said, 'Envy of other people shows how they are unhappy. Their continual attention to others behavior shows how they are boring.' Senaca once said, 'Envy of other people shows how they are unhappy. Their continual attention to others behavior shows how they are boring.' Senaca once said, 'Envy of other people shows how they are unhappy. Their continual attention to others behavior shows how they are boring.' Senaca once said, 'Envy of other people shows how they are unhappy. Their continual attention to others behavior shows how they are boring.' Senaca once said, 'Envy of other people shows how they are unhappy. Their continual attention to others behavior shows how they are boring.' Senaca once said, 'Envy of other people shows how they are unhappy. Their continual attention to others behavior shows how they are boring.' Senaca once said, 'Envy of other people shows how they are unhappy. Their continual attention to others behavior shows how they are boring.' Senaca once said, 'Envy of other people shows how they are unhappy. Their continual attention to others behavior shows how they are boring.' Senaca once said, 'Envy of other people shows how they are unhappy. Their continual attention to others behavior shows how they are boring.' Senaca once said, 'Envy of other people shows how they are unhappy. Their continual attention to others behavior shows how they are boring.' Senaca once said, 'Envy of other people shows how they are unhappy. Their continual attention to others behavior shows how they are boring.' Senaca once said, 'Envy of other people shows how they are unhappy. Their continual attention to others behavior shows how they are boring.' Senaca once said, 'Envy of other people shows how they are unhappy. Their continual attention to others behavior shows how they are boring.' Senaca once said, 'Envy of other people shows how they are unhappy. Their continual attention to others behavior shows how they are boring.' Senaca once said, 'Envy of other people shows how they are unhappy. Their continual attention to others behavior shows how they are boring.' Senaca once said, 'Envy of other people shows how they are unhappy. Their continual attention to others behavior shows how they are boring.' Senaca once said, 'Envy of other people shows how they are unhappy. Their continual attention to others behavior shows how they are boring.' Senaca once said, 'Envy of other people shows how they are unhappy. Their continual attention to others behavior shows how they are boring.' Senaca once said, 'Envy of other people shows how they are unhappy. Their continual attention to others behavior shows how they are boring.' Senaca once said, 'Envy of other people shows how they are unhappy. Their continual attention to others behavior shows how they are boring.' Senaca once said, 'Envy of other people shows how they are unhappy. Their continual attention to others behavior shows how they are boring.' Senaca once said, 'Envy of other people shows how they are unhappy. Their continual attention to others behavior shows how they are boring.' Senaca once said, 'Envy of other people shows how they are unhappy. Their continual attention to others behavior shows how they are boring.' Senaca once said, 'Envy of other people shows how they are unhappy. Their continual attention to others behavior shows how they are boring.' Senaca once said, 'Envy of other people shows how they are unhappy. Their continual attention to others behavior shows how they are boring.' Senaca once said, 'Envy of other people shows how they are unhappy. Their continual attention to others behavior shows how they are boring.' Senaca once said, 'Envy of other people shows how they are unhappy. Their continual attention to others behavior shows how they are boring.' Senaca once said, 'Envy of other people shows how they are unhappy. Their continual attention to others behavior shows how they are boring.' Senaca once said, 'Envy of other people shows how they are unhappy. Their continual attention to others behavior shows how they are boring.' Senaca once said, 'Envy of other people shows how they are unhappy. Their continual attention to others behavior shows how they are boring.' Senaca once said, 'Envy of other people shows how they are unhappy. Their continual attention to others behavior shows how they are boring.' Senaca once said, 'Envy of other people shows how they are unhappy. Their continual attention to others behavior shows how they are boring.' Senaca once said, 'Envy of other people shows how they are unhappy. Their continual attention to others behavior shows how they are boring.' Senaca once said, 'Envy of other people shows how they are unhappy. Their continual attention to others behavior shows how they are boring.' Senaca once said, 'Envy of other people shows how they are unhappy. Their continual attention to others behavior shows how they are boring.' Senaca once said, 'Envy of other people shows how they are unhappy. Their continual attention to others behavior shows how they are boring.' Senaca once said, 'Envy of other people shows how they are unhappy. Their continual attention to others behavior shows how they are boring.' Senaca once said, 'Envy of other people shows how they are unhappy. Their continual attention to others behavior shows how they are boring.' Senaca once said, 'Envy of other people shows how they are unhappy. Their continual attention to others behavior shows how they are boring.' Senaca once said, 'Envy of other people shows how they are unhappy. Their continual attention to others behavior shows how they are boring.' Senaca once said, 'Envy of other people shows how they are unhappy. Their continual attention to others behavior shows how they are boring.' Senaca once said, 'Envy of other people shows how they are unhappy. Their continual attention to others behavior shows how they are boring.' Senaca once said, 'Envy of other people shows how they are unhappy. Their continual attention to others behavior shows how they are boring.' Senaca once said, 'Envy of other people shows how they are unhappy. Their continual attention to others behavior shows how they are boring.' Senaca once said, 'Envy of other people shows how they are unhappy. Their continual attention to others behavior shows how they are boring.' Senaca once said, 'Envy of other people shows how they are unhappy. Their continual attention to others behavior shows how they are boring.' Senaca once said, 'Envy of other people shows how they are unhappy. Their continual attention to others behavior shows how they are boring.' Senaca once said, 'Envy of other people shows how they are unhappy. Their continual attention to others behavior shows how they are boring.' Senaca once said, 'Envy of other people shows how they are unhappy. Their continual attention to others behavior shows how they are boring.' Senaca once said, 'Envy of other people shows how they are unhappy. Their continual attention to others behavior shows how they are boring.' Senaca once said, 'Envy of other people shows how they are unhappy. Their continual attention to others behavior shows how they are boring.' Senaca once said, 'Envy of other people shows how they are unhappy. Their continual attention to others behavior shows how they are boring.' Senaca once said, 'Envy of other people shows how they are unhappy. Their continual attention to others behavior shows how they are boring.' Senaca once said, 'Envy of other people shows how they are unhappy. Their continual attention to others behavior shows how they are boring.' Senaca once said, 'Envy of other people shows how they are unhappy. Their continual attention to others behavior shows how they are boring.' Senaca once said, 'Envy of other people shows how they are unhappy. Their continual attention to others behavior shows how they are boring.' Senaca once said, 'Envy of other people shows how they are unhappy. Their continual attention to others behavior shows how they are boring.' Senaca once said, 'Envy of other people shows how they are unhappy. Their continual attention to others behavior shows how they are boring.' Senaca once said, 'Envy of other people shows how they are unhappy. Their continual attention to others behavior shows how they are boring.' Senaca once said, 'Envy of other people shows how they are unhappy. Their continual attention to others behavior shows how they are boring.' Senaca once said, 'Envy of other people shows how they are unhappy. Their continual attention to others behavior shows how they are boring.' Senaca once said, 'Envy of other people shows how they are unhappy. Their continual attention to others behavior shows how they are boring.' Senaca once said, 'Envy of other people shows how they are unhappy. Their continual attention to others behavior shows how they are boring.' Senaca once said, 'Envy of other people shows how they are unhappy. Their continual attention to others behavior shows how they are boring.' Senaca once said, 'Envy of other people shows how they are unhappy. Their continual attention to others behavior shows how they are boring.' Senaca once said, 'Envy of other people shows how they are unhappy. Their continual attention to others behavior shows how they are boring.' Senaca once said, 'Envy of other people shows how they are unhappy. Their continual attention to others behavior shows how they are boring.' Senaca once said, 'Envy of other people shows how they are unhappy. Their continual attention to others behavior shows how they are boring.' Senaca once said, 'Envy of other people shows how they are unhappy. Their continual attention to others behavior shows how they are boring.' Senaca once said, 'Envy of other people shows how they are unhappy. Their continual attention to others behavior shows how they are boring.' Senaca once said, 'Envy of other people shows how they are unhappy. Their continual attention to others behavior shows how they are boring.' Senaca once said, 'Envy of other people shows how they are unhappy. Their continual attention to others behavior shows how they are boring.' Senaca once said, 'Envy of other people shows how they are unhappy. Their continual attention to others behavior shows how they are boring.' Senaca once said, 'Envy of other people shows how they are unhappy. Their continual attention to others behavior shows how they are boring.' Senaca once said, 'Envy of other people shows how they are unhappy. Their continual attention to others behavior shows how they are boring.' Senaca once said, 'Envy of other people shows how they are unhappy. Their continual attention to others behavior shows how they are boring.' Senaca once said, 'Envy of other people shows how they are unhappy. Their continual attention to others behavior shows how they are boring.' Senaca once said, 'Envy of other people shows how they are unhappy. Their continual attention to others behavior shows how they are boring.' Senaca once said, 'Envy of other people shows how they are unhappy. Their continual attention to others behavior shows how they are boring.' Senaca once said, 'Envy of other people shows how they are unhappy. Their continual attention to others behavior shows how they are boring.' Senaca once said, 'Envy of other people shows how they are unhappy. Their continual attention to others behavior shows how they are boring.' Senaca once said, 'Envy of other people shows how they are unhappy. Their continual attention to others behavior shows how they are boring.' Senaca once said, 'Envy of other people shows how they are unhappy. Their continual attention to others behavior shows how they are boring.' Senaca once said, 'Envy of other people shows how they are unhappy. Their continual attention to others behavior shows how they are boring.' Senaca once said, 'Envy of other people shows how they are unhappy. Their continual attention to others behavior shows how they are boring.' Senaca once said, 'Envy of other people shows how they are unhappy. Their continual attention to others behavior shows how they are boring.' Senaca once said, 'Envy of other people shows how they are unhappy. Their continual attention to others behavior shows how they are boring.' Senaca once said, 'Envy of other people shows how they are unhappy. Their continual attention to others behavior shows how they are boring.' Senaca once said, 'Envy of other people shows how they are unhappy. Their continual attention to others behavior shows how they are boring.' Senaca once said, 'Envy of other people shows how they are unhappy. Their continual attention to others behavior shows how they are boring.' Senaca once said, 'Envy of other people shows how they are unhappy. Their continual attention to others behavior shows how they are boring.' Senaca once said, 'Envy of other people shows how they are unhappy. Their continual attention to others behavior shows how they are boring.' Senaca once said, 'Envy of other people shows how they are unhappy. Their continual attention to others behavior shows how they are boring.' Senaca once said, 'Envy of other people shows how they are unhappy. Their continual attention to others behavior shows how they are boring.' Senaca once said, 'Envy of other people shows how they are unhappy. Their continual attention to others behavior shows how they are boring.' Senaca once said, 'Envy of other people shows how they are unhappy. Their continual attention to others behavior shows how they are boring.' Senaca once said, 'Envy of other people shows how they are unhappy. Their continual attention to others behavior shows how they are boring.' Senaca once said, 'Envy of other people shows how they are unhappy. Their continual attention to others behavior shows how they are boring.' Senaca once said, 'Envy of other people shows how they are unhappy. Their continual attention to others behavior shows how they are boring.' Senaca once said, 'Envy of other people shows how they are unhappy. Their continual attention to others behavior shows how they are boring.' Senaca once said, 'Envy of other people shows how they are unhappy. Their continual attention to others behavior shows how they are boring.' Senaca once said, 'Envy of other people shows how they are unhappy. Their continual attention to others behavior shows how they are boring.' Senaca once said, 'Envy of other people shows how they are unhappy. Their continual attention to others behavior shows how they are boring.' Senaca once said, 'Envy of other people shows how they are unhappy. Their continual attention to others behavior shows how they are boring.' Senaca once said, 'Envy of other people shows how they are unhappy. Their continual attention to others behavior shows how they are boring.' Senaca once said, 'Envy of other people shows how they are unhappy. Their continual attention to others behavior shows how they are boring.' Senaca once said, 'Envy of other people shows how they are unhappy. Their continual attention to others behavior shows how they are boring.' Senaca once said, 'Envy of other people shows how they are unhappy. Their continual attention to others behavior shows how they are boring.' Senaca once said, 'Envy of other people shows how they are unhappy. Their continual attention to others behavior shows how they are boring.' Senaca once said, 'Envy of other people shows how they are unhappy. Their continual attention to others behavior shows how they are boring.' Senaca once said, 'Envy of other people shows how they are unhappy. Their continual attention to others behavior shows how they are boring.' Senaca once said, 'Envy of other people shows how they are unhappy. Their continual attention to others behavior shows how they are boring.' Senaca once said, 'Envy of other people shows how they are unhappy. Their continual attention to others behavior shows how they are boring.' Senaca once said, 'Envy of other people shows how they are unhappy. Their continual attention to others behavior shows how they are boring.' Senaca once said, 'Envy of other people shows how they are unhappy. Their continual attention to others behavior shows how they are boring.' Senaca once said, 'Envy of other people shows how they are unhappy. Their continual attention to others behavior shows how they are boring.' Senaca once said, 'Envy of other people shows how they are unhappy. Their continual attention to others behavior shows how they are boring.' Senaca once said, 'Envy of other people shows how they are unhappy. Their continual attention to others behavior shows how they are boring.' Senaca once said, 'Envy of other people shows how they are unhappy. Their continual attention to others behavior shows how they are boring.' Senaca once said, 'Envy of other people shows how they are unhappy. Their continual attention to others behavior shows how they are boring.' Senaca once said, 'Envy of other people shows how they are unhappy. Their continual attention to others behavior shows how they are boring.' Senaca once said, 'Envy of other people shows how they are unhappy. Their continual attention to others behavior shows how they are boring.' Senaca once said, 'Envy of other people shows how they are unhappy. Their continual attention to others behavior shows how they are boring.' Senaca once said, 'Envy of other people shows how they are unhappy. Their continual attention to others behavior shows how they are boring.' Senaca once said, 'Envy of other people shows how they are unhappy. Their continual attention to others behavior shows how they are boring.' Senaca once said, 'Envy of other people shows how they are unhappy. Their continual attention to others behavior shows how they are boring.' Senaca once said, 'Envy of other people shows how they are unhappy. Their continual attention to others behavior shows how they are boring.' Senaca once said, 'Envy of other people shows how they are unhappy. Their continual attention to others behavior shows how they are boring.' Senaca once said, 'Envy of other people shows how they are unhappy. Their continual attention to others behavior shows how they are boring.' Senaca once said, 'Envy of other people shows how they are unhappy. Their continual attention to others behavior shows how they are boring.' Senaca once said, 'Envy of other people shows how they are unhappy. Their continual attention to others behavior shows how they are boring.' Senaca once said, 'Envy of other people shows how they are unhappy. Their continual attention to others behavior shows how they are boring.' Senaca once said, 'Envy of other people shows how they are unhappy. Their continual attention to others behavior shows how they are boring.' Senaca once said, 'Envy of other people shows how they are unhappy. Their continual attention to others behavior shows how they are boring.' Senaca once said, 'Envy of other people shows how they are unhappy. Their continual attention to others behavior shows how they are boring.' Senaca once said, 'Envy of other people shows how they are unhappy. Their continual attention to others behavior shows how they are boring.' Senaca once said, 'Envy of other people shows how they are unhappy. Their continual attention to others behavior shows how they are boring.' Senaca once said, 'Envy of other people shows how they are unhappy. Their continual attention to others behavior shows how they are boring.' Senaca once said, 'Envy of other people shows how they are unhappy. Their continual attention to others behavior shows how they are boring.' Senaca once said, 'Envy of other people shows how they are unhappy. Their continual attention to others behavior shows how they are boring.' Senaca once said, 'Envy of other people shows how they are unhappy. Their continual attention to others behavior shows how they are boring.' Senaca once said, 'Envy of other people shows how they are unhappy. Their continual attention to others behavior shows how they are boring.' Senaca once said, 'Envy of other people shows how they are unhappy. Their continual attention to others behavior shows how they are boring.' Senaca once said, 'Envy of other people shows how they are unhappy. Their continual attention to others behavior shows how they are boring.' Senaca once said, 'Envy of other people shows how they are unhappy. Their continual attention to others behavior shows how they are boring.' Senaca once said, 'Envy of other people shows how they are unhappy. Their continual attention to others behavior shows how they are boring.' Senaca once said, 'Envy of other people shows how they are unhappy. Their continual attention to others behavior shows how they are boring.' Senaca once said, 'Envy of other people shows how they are unhappy. Their continual attention to others behavior shows how they are boring.' Senaca once said, 'Envy of other people shows how they are unhappy. Their continual attention to others behavior shows how they are boring.' Senaca once said, 'Envy of other people shows how they are unhappy. Their continual attention to others behavior shows how they are boring.' Senaca once said, 'Envy of other people shows how they are unhappy. Their continual attention to others behavior shows how they are boring.' Senaca once said, 'Envy of other people shows how they are unhappy. Their continual attention to others behavior shows how they are boring.' Senaca once said, 'Envy of other people shows how they are unhappy. Their continual attention to others behavior shows how they are boring.' Senaca once said, 'Envy of other people shows how they are unhappy. Their continual attention to others behavior shows how they are boring.' Senaca once said, 'Envy of other people shows how they are unhappy. Their continual attention to others behavior shows how they are boring.' Senaca once said, 'Envy of other people shows how they are unhappy. Their continual attention to others behavior shows how they are boring.' Senaca once said, 'Envy of other people shows how they are unhappy. Their continual attention to others behavior shows how they are boring.' Senaca once said, 'Envy of other people shows how they are unhappy. Their continual attention to others behavior shows how they are boring.' Senaca once said, 'Envy of other people shows how they are unhappy. Their continual attention to others behavior shows how they are boring.' Senaca once said, 'Envy of other people shows how they are unhappy. Their continual attention to others behavior shows how they are boring.' Senaca once said, 'Envy of other people shows how they are unhappy. Their continual attention to others behavior shows how they are boring.' Senaca once said, 'Envy of other people shows how they are unhappy. Their continual attention to others behavior shows how they are boring.' Senaca once said, 'Envy of other people shows how they are unhappy. Their continual attention to others behavior shows how they are boring.' Senaca once said, 'Envy of other people shows how they are unhappy. Their continual attention to others behavior shows how they are boring.' Senaca once said, 'Envy of other people shows how they are unhappy. Their continual attention to others behavior shows how they are boring.' Senaca once said, 'Envy of other people shows how they are unhappy. Their continual attention to others behavior shows how they are boring.' Senaca once said, 'Envy of other people shows how they are unhappy. Their continual attention to others behavior shows how they are boring.' Senaca once said, 'Envy of other people shows how they are unhappy. Their continual attention to others behavior shows how they are boring.' Senaca once said, 'Envy of other people shows how they are unhappy. Their continual attention to others behavior shows how they are boring.' Senaca once said, 'Envy of other people shows how they are unhappy. Their continual attention to others behavior shows how they are boring.' Senaca once said, 'Envy of other people shows how they are unhappy. Their continual attention to others behavior shows how they are boring.' Senaca once said, 'Envy of other people shows how they are unhappy. Their continual attention to others behavior shows how they are boring.' Senaca once said, 'Envy of other people shows how they are unhappy. Their continual attention to others behavior shows how they are boring.' Senaca once said, 'Envy of other people shows how they are unhappy. Their continual attention to others behavior shows how they are boring.' Senaca once said, 'Envy of other people shows how they are unhappy. Their continual attention to others behavior shows how they are boring.' Senaca once said, 'Envy of other people shows how they are unhappy. Their continual attention to others behavior shows how they are boring.' Senaca once said, 'Envy of other people shows how they are unhappy. Their continual attention to others behavior shows how they are boring.' Senaca once said, 'Envy of other people shows how they are unhappy. Their continual attention to others behavior shows how they are boring.' Senaca once said, 'Envy of other people shows how they are unhappy. Their continual attention to others behavior shows how they are boring.' Senaca once said, 'Envy of other people shows how they are unhappy. Their continual attention to others behavior shows how they are boring.' Senaca once said, 'Envy of other people shows how they are unhappy. Their continual attention to others behavior shows how they are boring.' Senaca once said, 'Envy of other people shows how they are unhappy. Their continual attention to others behavior shows how they are boring.' Senaca once said, 'Envy of other people shows how they are unhappy. Their continual attention to others behavior shows how they are boring.' Senaca once said, 'Envy of other people shows how they are unhappy. Their continual attention to others behavior shows how they are boring.' Senaca once said, 'Envy of other people shows how they are unhappy. Their continual attention to others behavior shows how they are boring.' Senaca once said, 'Envy of other people shows how they are unhappy. Their continual attention to others behavior shows how they are boring.' Senaca once said, 'Envy of other people shows how they are unhappy. Their continual attention to others behavior shows how they are boring.' Senaca once said, 'Envy of other people shows how they are unhappy. Their continual attention to others behavior shows how they are boring.' Senaca once said, 'Envy of other people shows how they are unhappy. Their continual attention to others behavior shows how they are boring.' Senaca once said, 'Envy of other people shows how they are unhappy. Their continual attention to others behavior shows how they are boring.' Senaca once said, 'Envy of other people shows how they are unhappy. Their continual attention to others behavior shows how they are boring.' Senaca once said, 'Envy of other people shows how they are unhappy. Their continual attention to others behavior shows how they are boring.' Senaca once said, 'Envy of other people shows how they are unhappy. Their continual attention to others behavior shows how they are boring.' Senaca once said, 'Envy of other people shows how they are unhappy. Their continual attention to others behavior shows how they are boring.' Senaca once said, 'Envy of other people shows how they are unhappy. Their continual attention to others behavior shows how they are boring.' Senaca once said, 'Envy of other people shows how they are unhappy. Their continual attention to others behavior shows how they are boring.' Senaca once said, 'Envy of other people shows how they are unhappy. Their continual attention to others behavior shows how they are boring.' Senaca once said, 'Envy of other people shows how they are unhappy. Their continual attention to others behavior shows how they are boring.' Senaca once said, 'Envy of other people shows how they are unhappy. Their continual attention to others behavior shows how they are boring.' Senaca once said, 'Envy of other people shows how they are unhappy. Their continual attention to others behavior shows how they are boring.' Senaca once said, 'Envy of other people shows how they are unhappy. Their continual attention to others behavior shows how they are boring.' Senaca once said, 'Envy of other people shows how they are unhappy. Their continual attention to others behavior shows how they are boring.' Senaca once said, 'Envy of other people shows how they are unhappy. Their continual attention to others behavior shows how they are boring.' Senaca once said, 'Envy of other people shows how they are unhappy. Their continual attention to others behavior shows how they are boring.' Senaca once said, 'Envy of other people shows how they are unhappy. Their continual attention to others behavior shows how they are boring.' Senaca once said, 'Envy of other people shows how they are unhappy. Their continual attention to others behavior shows how they are boring.' Senaca once said, 'Envy of other people shows how they are unhappy. Their continual attention to others behavior shows how they are boring.' Senaca once said, 'Envy of other people shows how they are unhappy. Their continual attention to others behavior shows how they are boring.' Senaca once said, 'Envy of other people shows how they are unhappy. Their continual attention to others behavior shows how they are boring.' Senaca once said, 'Envy of other people shows how they are unhappy. Their continual attention to others behavior shows how they are boring.' Senaca once said, 'Envy of other people shows how they are unhappy. Their continual attention to others behavior shows how they are boring.' Senaca once said, 'Envy of other people shows how they are unhappy. Their continual attention to others behavior shows how they are boring.' Senaca once said, 'Envy of other people shows how they are unhappy. Their continual attention to others behavior shows how they are boring.' Senaca once said, 'Envy of other people shows how they are unhappy. Their continual attention to others behavior shows how they are boring.' Senaca once said, 'Envy of other people shows how they are unhappy. Their continual attention to others behavior shows how they are boring.' Senaca once said, 'Envy of other people shows how they are unhappy. Their continual attention to others behavior shows how they are boring.' Senaca once said, 'Envy of other people shows how they are unhappy. Their continual attention to others behavior shows how they are boring.' Senaca once said, 'Envy of other people shows how they are unhappy. Their continual attention to others behavior shows how they are boring.' Senaca once said, 'Envy of other people shows how they are unhappy. Their continual attention to others behavior shows how they are boring.' Senaca once said, 'Envy of other people shows how they are unhappy. Their continual attention to others behavior shows how they are boring.' Senaca once said, 'Envy of other people shows how they are unhappy. Their continual attention to others behavior shows how they are boring.' Senaca once said, 'Envy of other people shows how they are unhappy. Their continual attention to others behavior shows how they are boring.' Senaca once said, 'Envy of other people shows how they are unhappy. Their continual attention to others behavior shows how they are boring.' Senaca once said, 'Envy of other people shows how they are unhappy. Their continual attention to others behavior shows how they are boring.' Senaca once said, 'Envy of other people shows how they are unhappy. Their continual attention to others behavior shows how they are boring.' Senaca once said, 'Envy of other people shows how they are unhappy. Their continual attention to others behavior shows how they are boring.' Senaca once said, 'Envy of other people shows how they are unhappy. Their continual attention to others behavior shows how they are boring.' Senaca once said, 'Envy of other people shows how they are unhappy. Their continual attention to others behavior shows how they are boring.' \n"
          ]
        }
      ]
    },
    {
      "cell_type": "markdown",
      "metadata": {
        "id": "SwjsCKzReDsA"
      },
      "source": [
        "### Exercise 3:\n",
        "\n",
        "Use python string operations and methods to use the following variables to print this:\n",
        "\n",
        "    \"hello world\""
      ]
    },
    {
      "cell_type": "code",
      "metadata": {
        "id": "yZa5LbhMkQdJ",
        "outputId": "e554e4c6-6e89-44ac-cbb5-edf6179d2f90",
        "colab": {
          "base_uri": "https://localhost:8080/"
        }
      },
      "source": [
        "message_1 = \"hELlo\"\n",
        "message_2 = \"                              wor\"\n",
        "message_3 = \"wbdaloqteldndyrcggzf\"\n",
        "print(message_1.lower()+\" \"+message_2.strip()+message_3[4]+message_3[2])\n",
        "print(message_1.lower()+\" \"+message_2.strip()+message_3[4:1:-2])\n",
        "print(message_1.lower()+\" \"+message_2.strip()+message_3[9:11])\n"
      ],
      "execution_count": 23,
      "outputs": [
        {
          "output_type": "stream",
          "name": "stdout",
          "text": [
            "hello world\n",
            "hello world\n",
            "hello world\n"
          ]
        }
      ]
    },
    {
      "cell_type": "markdown",
      "metadata": {
        "id": "XGWyu6WFeDsA"
      },
      "source": [
        "### Exercise 4\n",
        "\n",
        "Fix the following code so it prints properly"
      ]
    },
    {
      "cell_type": "code",
      "metadata": {
        "id": "eKON05CmeDsA",
        "outputId": "594e78fd-8b4f-4136-b506-646c955d2eb7",
        "colab": {
          "base_uri": "https://localhost:8080/"
        }
      },
      "source": [
        "# Dollar amounts should only have two digits after the decimal\n",
        "print(\"The price is $%.2f.\" % (3.44444))"
      ],
      "execution_count": 25,
      "outputs": [
        {
          "output_type": "stream",
          "name": "stdout",
          "text": [
            "The price is $3.44.\n"
          ]
        }
      ]
    },
    {
      "cell_type": "code",
      "metadata": {
        "id": "LDtaHOe6eDsA",
        "outputId": "0d125e14-a2b5-483e-be74-e1eb678422a9",
        "colab": {
          "base_uri": "https://localhost:8080/"
        }
      },
      "source": [
        "# Complete the code so it prints your name and what you're learning\n",
        "name = input(\"enter your name: \")\n",
        "language = input(\"enter the language you are learning: \")\n",
        "print(\"{} is learning {}.\".format(name,language) )"
      ],
      "execution_count": 47,
      "outputs": [
        {
          "output_type": "stream",
          "name": "stdout",
          "text": [
            "enter your name: Dealo\n",
            "enter the language you are learning: Python\n",
            "Dealo is learning Python.\n"
          ]
        }
      ]
    },
    {
      "cell_type": "markdown",
      "metadata": {
        "id": "L58l8ohleDsB"
      },
      "source": [
        "### Exercise 5\n",
        "\n",
        "Create your own mad-lib with at least 5 inputs."
      ]
    },
    {
      "cell_type": "code",
      "metadata": {
        "id": "4NgYXtlSoTFA",
        "outputId": "bc0aecb0-a1a1-4ead-b715-1a5088b8547b",
        "colab": {
          "base_uri": "https://localhost:8080/"
        }
      },
      "source": [
        "dayofweek = input(\"What day of the week was yesterday? \")\n",
        "breakfastfood = input(\"What did you eat for breakfast? \")\n",
        "breakfastdrink = input(\"What did you drink for breakfast? \")\n",
        "musicgenre = input(\"What's your favorite music genre? \")\n",
        "coworker = input(\"Name a coworker you dislike. \")\n",
        "liquid = input(\"Name a liquid. \")\n",
        "pieceofclothing = input(\"Name a piece of clothing you wore. \")\n",
        "negativeemotion = input(\"Name a negative emotion. \")\n",
        "madlib = \"\"\"Yesterday was {}. I ate some {} and drank some {} for breakfast. After that, I went to work while listening to some {}. \n",
        "It was a good day until {} spilled some {} on my {}. I became really {} and left work early. Then I went to bed.\"\"\"\n",
        "print(madlib.format(dayofweek,breakfastfood,breakfastdrink,musicgenre,coworker,liquid,pieceofclothing,negativeemotion))\n"
      ],
      "execution_count": 53,
      "outputs": [
        {
          "output_type": "stream",
          "name": "stdout",
          "text": [
            "What day of the week was yesterday? Monday\n",
            "What did you eat for breakfast? Cereal\n",
            "What did you drink for breakfast? Apple Juice\n",
            "What's your favorite music genre? Hip-Hop\n",
            "Name a coworker you dislike. Giorno\n",
            "Name a liquid. Soda\n",
            "Name a piece of clothing you wore. Green Pants\n",
            "Name a negative emotion. Sad\n",
            "Yesterday was Monday. I ate some Cereal and drank some Apple Juice for breakfast. After that, I went to work while listening to some Hip-Hop. \n",
            "It was a good day until Giorno spilled some Soda on my Green Pants. I became really Sad and left work early. Then I went to bed.\n"
          ]
        }
      ]
    }
  ]
}